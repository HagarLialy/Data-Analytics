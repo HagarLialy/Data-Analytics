{
 "cells": [
  {
   "cell_type": "markdown",
   "id": "5be25b1d-ab51-4e2a-a855-554719b978ef",
   "metadata": {},
   "source": [
    "## Sequential control flow "
   ]
  },
  {
   "cell_type": "markdown",
   "id": "b4642af1-d4b4-4bd8-8143-ecd54a2ecd3c",
   "metadata": {},
   "source": [
    "### String"
   ]
  },
  {
   "cell_type": "code",
   "execution_count": 13,
   "id": "465d73e5-a760-46ca-8263-4e10a1f07f76",
   "metadata": {},
   "outputs": [
    {
     "name": "stdout",
     "output_type": "stream",
     "text": [
      "aml mahmoud\n",
      "Aml Mahmoud\n",
      "AML MAHMOUD\n"
     ]
    }
   ],
   "source": [
    "name = \"aml\" + \" mahmoud\" \n",
    "age = 14\n",
    "print(name)\n",
    "print(name.title())\n",
    "print(name.upper())"
   ]
  },
  {
   "cell_type": "code",
   "execution_count": 19,
   "id": "29be54d8-021b-40dd-a70e-eb5b2df1bb85",
   "metadata": {},
   "outputs": [
    {
     "name": "stdout",
     "output_type": "stream",
     "text": [
      "aml mahmoud\t14\n"
     ]
    }
   ],
   "source": [
    "# add name and age \n",
    "print(name + \"\\t\" + str(age))"
   ]
  },
  {
   "cell_type": "code",
   "execution_count": 25,
   "id": "99d1d109-3e72-4c07-a11c-07d9087ffa5c",
   "metadata": {},
   "outputs": [],
   "source": [
    "count_char = len(\"python course\")"
   ]
  },
  {
   "cell_type": "code",
   "execution_count": 44,
   "id": "d0445193-9429-4952-84fc-1399b396ae7c",
   "metadata": {},
   "outputs": [],
   "source": [
    "word = \"be yourself\""
   ]
  },
  {
   "cell_type": "code",
   "execution_count": 46,
   "id": "2182a0de-cd2d-41e7-bae4-0a3d888bd75a",
   "metadata": {},
   "outputs": [
    {
     "data": {
      "text/plain": [
       "'b'"
      ]
     },
     "execution_count": 46,
     "metadata": {},
     "output_type": "execute_result"
    }
   ],
   "source": [
    "word[0]"
   ]
  },
  {
   "cell_type": "code",
   "execution_count": 64,
   "id": "c4d07a8d-ae3b-4084-8252-dd9950987c64",
   "metadata": {},
   "outputs": [
    {
     "data": {
      "text/plain": [
       "'f'"
      ]
     },
     "execution_count": 64,
     "metadata": {},
     "output_type": "execute_result"
    }
   ],
   "source": [
    "word[-1]"
   ]
  },
  {
   "cell_type": "code",
   "execution_count": 54,
   "id": "7c63eaf5-d273-4a23-b382-bcda0c225507",
   "metadata": {},
   "outputs": [
    {
     "data": {
      "text/plain": [
       "' '"
      ]
     },
     "execution_count": 54,
     "metadata": {},
     "output_type": "execute_result"
    }
   ],
   "source": [
    "word[2]"
   ]
  },
  {
   "cell_type": "code",
   "execution_count": 60,
   "id": "52583ded-6ca6-4d69-b81e-ee5e09a091e8",
   "metadata": {},
   "outputs": [
    {
     "data": {
      "text/plain": [
       "'r'"
      ]
     },
     "execution_count": 60,
     "metadata": {},
     "output_type": "execute_result"
    }
   ],
   "source": [
    "word[-5]"
   ]
  },
  {
   "cell_type": "code",
   "execution_count": 62,
   "id": "480c4438-406b-400f-a8fb-b729a6692b97",
   "metadata": {},
   "outputs": [
    {
     "data": {
      "text/plain": [
       "' '"
      ]
     },
     "execution_count": 62,
     "metadata": {},
     "output_type": "execute_result"
    }
   ],
   "source": [
    "word[-9]"
   ]
  },
  {
   "cell_type": "code",
   "execution_count": 66,
   "id": "19149c4d-978c-41d8-892e-eac9cdd30a6b",
   "metadata": {},
   "outputs": [],
   "source": [
    "healthy = \"green tea\""
   ]
  },
  {
   "cell_type": "code",
   "execution_count": 68,
   "id": "6884cb5e-c76d-4d46-a546-177a70368dd5",
   "metadata": {},
   "outputs": [
    {
     "data": {
      "text/plain": [
       "''"
      ]
     },
     "execution_count": 68,
     "metadata": {},
     "output_type": "execute_result"
    }
   ],
   "source": [
    "healthy[-1:-2]"
   ]
  },
  {
   "cell_type": "code",
   "execution_count": 70,
   "id": "b22c1036-df69-43b0-b62d-6fce47743449",
   "metadata": {},
   "outputs": [
    {
     "data": {
      "text/plain": [
       "'te'"
      ]
     },
     "execution_count": 70,
     "metadata": {},
     "output_type": "execute_result"
    }
   ],
   "source": [
    "healthy[-3:-1]"
   ]
  },
  {
   "cell_type": "code",
   "execution_count": 72,
   "id": "950b9fcf-db4d-4ac4-9c51-244ceadb7bdb",
   "metadata": {},
   "outputs": [
    {
     "data": {
      "text/plain": [
       "'te'"
      ]
     },
     "execution_count": 72,
     "metadata": {},
     "output_type": "execute_result"
    }
   ],
   "source": [
    "healthy[6:-1]"
   ]
  },
  {
   "cell_type": "code",
   "execution_count": null,
   "id": "b71d7bf2-456f-42ac-a77a-5e64f30b1207",
   "metadata": {},
   "outputs": [],
   "source": []
  }
 ],
 "metadata": {
  "kernelspec": {
   "display_name": "Python 3 (ipykernel)",
   "language": "python",
   "name": "python3"
  },
  "language_info": {
   "codemirror_mode": {
    "name": "ipython",
    "version": 3
   },
   "file_extension": ".py",
   "mimetype": "text/x-python",
   "name": "python",
   "nbconvert_exporter": "python",
   "pygments_lexer": "ipython3",
   "version": "3.12.4"
  }
 },
 "nbformat": 4,
 "nbformat_minor": 5
}
