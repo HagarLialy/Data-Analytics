{
 "cells": [
  {
   "cell_type": "markdown",
   "id": "f662d169",
   "metadata": {},
   "source": [
    "# Exercise: Using and controlling loops\n"
   ]
  },
  {
   "cell_type": "markdown",
   "id": "9f2422a5",
   "metadata": {},
   "source": [
    "## Exercises"
   ]
  },
  {
   "cell_type": "markdown",
   "id": "5a0b7683",
   "metadata": {
    "tags": []
   },
   "source": [
    "### Exercise 1: Marine species counter\n",
    "\n",
    "**Objective:** Use a `for` loop to count the number of endangered marine species in a list.\n"
   ]
  },
  {
   "cell_type": "code",
   "execution_count": 4,
   "id": "ec1c7891",
   "metadata": {},
   "outputs": [
    {
     "name": "stdout",
     "output_type": "stream",
     "text": [
      "Number of endangered marine species: 5\n"
     ]
    }
   ],
   "source": [
    "endangered_marine_species = ['Hawksbill Turtle', 'Vaquita', 'Blue Whale', 'Staghorn Coral', 'Green Turtle']\n",
    "endangered_count = 0\n",
    "\n",
    "for species in endangered_marine_species:\n",
    "    endangered_count += 1\n",
    "\n",
    "print(f\"Number of endangered marine species: {endangered_count}\")"
   ]
  },
  {
   "cell_type": "markdown",
   "id": "efaae06e",
   "metadata": {},
   "source": [
    "### Exercise 3: Biodiversity analysis\n",
    "\n",
    "**Objective:** Write a `for` loop to analyse a list of animals, printing out whether they are endangered or not."
   ]
  },
  {
   "cell_type": "code",
   "execution_count": 6,
   "id": "13ff9ce0",
   "metadata": {},
   "outputs": [
    {
     "name": "stdout",
     "output_type": "stream",
     "text": [
      "the animal Tiger is endangered\n",
      "the animal Blue Whale is endangered\n",
      "the animal African Elephant is endangered\n",
      "the animal Koala is not endangered\n",
      "the animal Panda is not endangered\n"
     ]
    }
   ],
   "source": [
    "animals = ['Tiger', 'Blue Whale', 'African Elephant', 'Koala', 'Panda']\n",
    "endangered_animals = ['Tiger', 'Blue Whale', 'African Elephant']\n",
    "\n",
    "for animal in animals:\n",
    "    if animal in endangered_animals:\n",
    "        print(f\"the animal {animal} is endangered\")\n",
    "    else: \n",
    "         print(f\"the animal {animal} is not endangered\")"
   ]
  },
  {
   "cell_type": "markdown",
   "id": "09a79878",
   "metadata": {},
   "source": [
    "### Exercise 4: Ocean pollution tracker\n",
    "\n",
    "**Objective:** Use loops to process and display information about ocean pollution levels in different regions."
   ]
  },
  {
   "cell_type": "code",
   "execution_count": 8,
   "id": "180572c0",
   "metadata": {},
   "outputs": [
    {
     "name": "stdout",
     "output_type": "stream",
     "text": [
      "ocean: Pacific Ocean , average of pollution level is 3.3333333333333335\n",
      "ocean: Atlantic Ocean , average of pollution level is 4.333333333333333\n",
      "ocean: Indian Ocean , average of pollution level is 3.0\n"
     ]
    }
   ],
   "source": [
    "ocean_pollution_data = {\n",
    "    'Pacific Ocean': [3, 5, 2], \n",
    "    'Atlantic Ocean': [7, 2, 4],\n",
    "    'Indian Ocean': [5, 1, 3]\n",
    "}\n",
    "\n",
    "for ocean, pollution_levels in ocean_pollution_data.items():\n",
    "    sum = 0\n",
    "    average = 0 \n",
    "\n",
    "    for pollution_level in pollution_levels:\n",
    "        sum += pollution_level\n",
    "        average = sum/len(pollution_levels)\n",
    "\n",
    "    print(f\"ocean: {ocean} , average of pollution level is {average}\")"
   ]
  },
  {
   "cell_type": "markdown",
   "id": "d1a00eaa",
   "metadata": {},
   "source": [
    "**Hint:** Use a `for` loop to sum the pollution levels for each ocean, then calculate and print the average."
   ]
  },
  {
   "cell_type": "markdown",
   "id": "65fd599f",
   "metadata": {},
   "source": [
    "### Exercise 5: Species conservation\n",
    "\n",
    "**Objective:** Implement a `while` loop to simulate a conservation effort, stopping when a certain population target is reached."
   ]
  },
  {
   "cell_type": "code",
   "execution_count": null,
   "id": "cf960543",
   "metadata": {},
   "outputs": [],
   "source": [
    "current_population = 150  # of a particular endangered species\n",
    "target_population = 500\n",
    "years = 0\n",
    "growth_rate = 1.07  # 7% annual growth due to conservation efforts\n",
    "\n",
    "# Your task: Use a while loop to calculate how many years it takes to reach the target population\n",
    "while current_population < target_population:\n",
    "    current_population *= growth_rate\n",
    "    years += 1\n",
    "print(f\"Years to reach target population: {years}\")"
   ]
  },
  {
   "cell_type": "markdown",
   "id": "99498807",
   "metadata": {},
   "source": [
    "**Hint:** In each iteration of the `while` loop, multiply the `current_population` by `growth_rate`, and increment `years` by 1."
   ]
  },
  {
   "cell_type": "markdown",
   "id": "f75d4350",
   "metadata": {},
   "source": [
    "### Exercise 6: Basic list comprehension\n",
    "\n",
    "**Instructions:** Fill in the comprehension line to create a list of squares of numbers from 1 to 10."
   ]
  },
  {
   "cell_type": "code",
   "execution_count": null,
   "id": "0cb026b6",
   "metadata": {},
   "outputs": [],
   "source": [
    "numbers = range(1, 11)\n",
    "squares = [x**2 for x in numbers]\n",
    "print(squares)"
   ]
  },
  {
   "cell_type": "markdown",
   "id": "3bff7e58",
   "metadata": {},
   "source": [
    "### Exercise 7: List comprehension with a conditional\n",
    "\n",
    "**Instructions:** Use list comprehension to create a list of only even numbers from 1 to 20."
   ]
  },
  {
   "cell_type": "code",
   "execution_count": null,
   "id": "566521f1",
   "metadata": {},
   "outputs": [],
   "source": [
    "numbers = range(1, 21)\n",
    "even_numbers = [x for x in numbers if x%2 == 0] # Fill in the list comprehension\n",
    "print(even_numbers)"
   ]
  }
 ],
 "metadata": {
  "kernelspec": {
   "display_name": "Python 3 (ipykernel)",
   "language": "python",
   "name": "python3"
  },
  "language_info": {
   "codemirror_mode": {
    "name": "ipython",
    "version": 3
   },
   "file_extension": ".py",
   "mimetype": "text/x-python",
   "name": "python",
   "nbconvert_exporter": "python",
   "pygments_lexer": "ipython3",
   "version": "3.12.4"
  }
 },
 "nbformat": 4,
 "nbformat_minor": 5
}
