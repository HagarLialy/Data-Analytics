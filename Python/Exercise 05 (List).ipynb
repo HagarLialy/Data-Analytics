{
 "cells": [
  {
   "cell_type": "markdown",
   "id": "f662d169",
   "metadata": {},
   "source": [
    "# Exercise: Lists"
   ]
  },
  {
   "cell_type": "markdown",
   "id": "5963de69",
   "metadata": {},
   "source": [
    "### Exercise\n",
    "\n",
    "1. Suppose we want to label the trees we plant in our plantation, using integer numbers. Let's create a list containing integers from 1 to 5, named `first_trees`. "
   ]
  },
  {
   "cell_type": "code",
   "execution_count": 3,
   "id": "1931f159",
   "metadata": {
    "scrolled": true,
    "vscode": {
     "languageId": "plaintext"
    }
   },
   "outputs": [],
   "source": [
    "first_tree = [1,2,3,4,5]"
   ]
  },
  {
   "cell_type": "markdown",
   "id": "b43692bd",
   "metadata": {},
   "source": [
    "<br>\n",
    "\n",
    "2. Our plantation has expanded a lot in the last few weeks. We need to create a list of trees planted within 15 cm of an irrigation device. Create a list called `tree_list`,  starting at 20, ranging to 140, in increments of 4 (i.e. `20, 24,...,140`).\n"
   ]
  },
  {
   "cell_type": "code",
   "execution_count": 5,
   "id": "b8f86baf",
   "metadata": {},
   "outputs": [
    {
     "name": "stdout",
     "output_type": "stream",
     "text": [
      "[20, 24, 28, 32, 36, 40, 44, 48, 52, 56, 60, 64, 68, 72, 76, 80, 84, 88, 92, 96, 100, 104, 108, 112, 116, 120, 124, 128, 132, 136]\n"
     ]
    }
   ],
   "source": [
    "tree_list = list(range(20,140,4))\n",
    "print(tree_list)"
   ]
  },
  {
   "cell_type": "markdown",
   "id": "9bdefe7b",
   "metadata": {},
   "source": [
    "<br>\n",
    "\n",
    "3. When we created our irrigation tree list, we forgot about a tree that is watered by an older irrigation system.  Append the number `400` to the end of the tree_list."
   ]
  },
  {
   "cell_type": "code",
   "execution_count": 7,
   "id": "c6efc3c7",
   "metadata": {},
   "outputs": [
    {
     "name": "stdout",
     "output_type": "stream",
     "text": [
      "[20, 24, 28, 32, 36, 40, 44, 48, 52, 56, 60, 64, 68, 72, 76, 80, 84, 88, 92, 96, 100, 104, 108, 112, 116, 120, 124, 128, 132, 136, 400]\n"
     ]
    }
   ],
   "source": [
    "tree_list.append(400)\n",
    "print(tree_list)"
   ]
  },
  {
   "cell_type": "markdown",
   "id": "af071175",
   "metadata": {},
   "source": [
    "<br>\n",
    "\n",
    "4. We decide to install irrigation for three older trees that were planted long ago. Create a new variable called `combined_trees` by **combining** our existing `tree_list` with another list, `old_trees = [500, 600, 700]`. Your list should now contain 35 elements."
   ]
  },
  {
   "cell_type": "code",
   "execution_count": 9,
   "id": "229281b9",
   "metadata": {},
   "outputs": [
    {
     "name": "stdout",
     "output_type": "stream",
     "text": [
      "[20, 24, 28, 32, 36, 40, 44, 48, 52, 56, 60, 64, 68, 72, 76, 80, 84, 88, 92, 96, 100, 104, 108, 112, 116, 120, 124, 128, 132, 136, 400, 500, 600, 700]\n"
     ]
    },
    {
     "data": {
      "text/plain": [
       "34"
      ]
     },
     "execution_count": 9,
     "metadata": {},
     "output_type": "execute_result"
    }
   ],
   "source": [
    "old_trees = [500, 600, 700]\n",
    "combined_trees = tree_list + old_trees\n",
    "print(combined_trees)\n",
    "len(combined_trees)"
   ]
  },
  {
   "cell_type": "markdown",
   "id": "ede839d8",
   "metadata": {},
   "source": [
    "<br>\n",
    "\n",
    "5. We are interested in creating a **list of lists** or **nested list**. We have two lists of seed-producing plants, `conifers` and `cycads`. Given these lists in the code block below, create a variable called `gymnosperms`, the family group to which these trees belong. \n",
    "\n"
   ]
  },
  {
   "cell_type": "code",
   "execution_count": 11,
   "id": "335ad25b",
   "metadata": {},
   "outputs": [
    {
     "name": "stdout",
     "output_type": "stream",
     "text": [
      "[['Pine', 'Fir', 'Juniper'], ['Cycas', 'Sago palm', 'Zamia']]\n"
     ]
    }
   ],
   "source": [
    "conifers = [\"Pine\", \"Fir\", \"Juniper\"]\n",
    "cycads = [\"Cycas\", \"Sago palm\", \"Zamia\"]\n",
    "\n",
    "gymnosperms = [conifers, cycads]\n",
    "print(gymnosperms)\n"
   ]
  },
  {
   "cell_type": "markdown",
   "id": "54521903",
   "metadata": {},
   "source": [
    "<br>\n",
    "\n",
    "6. We are specifically interested in planting cycas and sago palms. Use indexing on the `gymnosperms` list to create a new list that consists of `Cycas` and `Sago palm`."
   ]
  },
  {
   "cell_type": "code",
   "execution_count": 13,
   "id": "f174203a",
   "metadata": {},
   "outputs": [
    {
     "data": {
      "text/plain": [
       "['Cycas', 'Sago palm']"
      ]
     },
     "execution_count": 13,
     "metadata": {},
     "output_type": "execute_result"
    }
   ],
   "source": [
    "gymnosperms[1][0:2]\n"
   ]
  },
  {
   "cell_type": "markdown",
   "id": "7c1c1f36",
   "metadata": {},
   "source": [
    "<br>\n",
    "\n",
    "7. We need to combine the plants within the `conifers` and `cycads` lists, then sort them in alphabetical order. Create a list, `ordered_plants`, to store them in. \n",
    "\n",
    "Hint: The list variable should contain all the plants as individual elements before sorting it."
   ]
  },
  {
   "cell_type": "code",
   "execution_count": 23,
   "id": "a90a5948",
   "metadata": {},
   "outputs": [
    {
     "name": "stdout",
     "output_type": "stream",
     "text": [
      "['Cycas', 'Fir', 'Juniper', 'Pine', 'Sago palm', 'Zamia']\n"
     ]
    }
   ],
   "source": [
    "Combined = conifers + cycads\n",
    "combined_copy = Combined.copy()\n",
    "combined_copy.sort()\n",
    "print(combined_copy)"
   ]
  }
 ],
 "metadata": {
  "kernelspec": {
   "display_name": "Python 3 (ipykernel)",
   "language": "python",
   "name": "python3"
  },
  "language_info": {
   "codemirror_mode": {
    "name": "ipython",
    "version": 3
   },
   "file_extension": ".py",
   "mimetype": "text/x-python",
   "name": "python",
   "nbconvert_exporter": "python",
   "pygments_lexer": "ipython3",
   "version": "3.12.4"
  }
 },
 "nbformat": 4,
 "nbformat_minor": 5
}
