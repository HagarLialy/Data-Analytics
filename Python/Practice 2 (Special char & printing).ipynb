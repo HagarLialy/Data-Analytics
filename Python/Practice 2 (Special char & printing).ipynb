{
 "cells": [
  {
   "cell_type": "markdown",
   "id": "f0c956b6-b97e-4414-ae2f-d34c572c99dc",
   "metadata": {},
   "source": [
    "#### Special characters "
   ]
  },
  {
   "cell_type": "code",
   "execution_count": 3,
   "id": "470c5139-8376-40bb-b6cc-375f4a787f3d",
   "metadata": {},
   "outputs": [
    {
     "name": "stdout",
     "output_type": "stream",
     "text": [
      "langauges:\n",
      "\tpython\n",
      "\tjava's\n"
     ]
    }
   ],
   "source": [
    "print(\"langauges:\\n\\tpython\\n\\tjava\\'s\")"
   ]
  },
  {
   "cell_type": "code",
   "execution_count": 172,
   "id": "883230a6-6fd1-428a-81cc-79dcac8d814e",
   "metadata": {},
   "outputs": [
    {
     "name": "stdout",
     "output_type": "stream",
     "text": [
      "hello,\n",
      "world\n"
     ]
    }
   ],
   "source": [
    "# newline (\\n)\n",
    "print(\"hello,\\nworld\")"
   ]
  },
  {
   "cell_type": "code",
   "execution_count": 174,
   "id": "a1e99139-1204-4df0-a6bb-a4a85d80c1a1",
   "metadata": {},
   "outputs": [
    {
     "name": "stdout",
     "output_type": "stream",
     "text": [
      "hello,\tworld\n"
     ]
    }
   ],
   "source": [
    "# tab (\\t)\n",
    "print(\"hello,\\tworld\")"
   ]
  },
  {
   "cell_type": "code",
   "execution_count": 176,
   "id": "43011546-bf83-4202-a24a-32f3dfc4bca1",
   "metadata": {},
   "outputs": [
    {
     "name": "stdout",
     "output_type": "stream",
     "text": [
      "hello,\\world\n"
     ]
    }
   ],
   "source": [
    "# backslach (\\\\)\n",
    "print(\"hello,\\\\world\")"
   ]
  },
  {
   "cell_type": "markdown",
   "id": "14ecd4ac-d914-4baa-8b51-dc12ca81d324",
   "metadata": {},
   "source": [
    "#### Formatted printing "
   ]
  },
  {
   "cell_type": "code",
   "execution_count": 21,
   "id": "a6dfc476-0f67-4778-a885-18d493ba61df",
   "metadata": {},
   "outputs": [],
   "source": [
    "Age = 22\n",
    "Name = 'Hagar'"
   ]
  },
  {
   "cell_type": "code",
   "execution_count": 184,
   "id": "e03d3076-88cc-41dc-95f1-2bed4db8927d",
   "metadata": {},
   "outputs": [
    {
     "name": "stdout",
     "output_type": "stream",
     "text": [
      "The user Hagar was born 22 years ago\n"
     ]
    }
   ],
   "source": [
    "# print by using concatenate \n",
    "\n",
    "str_concatenate = \"The user \" + Name + \" was born \" + str(Age) + \" years ago\"\n",
    "print(str_concatenate)"
   ]
  },
  {
   "cell_type": "code",
   "execution_count": 186,
   "id": "25e66456-1243-4cfc-859c-d6dc2fec2570",
   "metadata": {},
   "outputs": [
    {
     "name": "stdout",
     "output_type": "stream",
     "text": [
      "The user Hagar was born 22 years ago\n"
     ]
    }
   ],
   "source": [
    "# print by using percentage \n",
    "\n",
    "str_percentage = \"The user %s was born %s years ago\" %(Name,Age)\n",
    "print(str_concatenate)"
   ]
  },
  {
   "cell_type": "code",
   "execution_count": 190,
   "id": "8ca41f6f-5ba0-47b4-97e5-bba83612e14f",
   "metadata": {},
   "outputs": [
    {
     "name": "stdout",
     "output_type": "stream",
     "text": [
      "The user Hagar was born 22 years ago.\n"
     ]
    }
   ],
   "source": [
    "# print by using format \n",
    "\n",
    "format = \"The user {} was born {} years ago.\" .format(Name,Age)\n",
    "print(format)"
   ]
  },
  {
   "cell_type": "code",
   "execution_count": 37,
   "id": "5a5dc4cb-1d0a-43d1-bede-b04a5397cd6f",
   "metadata": {},
   "outputs": [
    {
     "name": "stdout",
     "output_type": "stream",
     "text": [
      "the user Hagar was born 22 years ago\n"
     ]
    }
   ],
   "source": [
    "# print by using f string\n",
    "\n",
    "str_f_string = f\"the user {Name} was born {Age} years ago\"\n",
    "print(str_f_string)"
   ]
  },
  {
   "cell_type": "code",
   "execution_count": 193,
   "id": "b86eb41d-1c10-4353-95c3-7a0a7e2fc541",
   "metadata": {},
   "outputs": [
    {
     "name": "stdout",
     "output_type": "stream",
     "text": [
      "the sum of 20 and 80 is 100\n"
     ]
    }
   ],
   "source": [
    "# sum num_1 and num_2 and print the result\n",
    "\n",
    "num_1 = 20\n",
    "num_2 = 80\n",
    "sum = num_1 + num_2\n",
    "print(f\"the sum of {num_1} and {num_2} is {sum}\")"
   ]
  }
 ],
 "metadata": {
  "kernelspec": {
   "display_name": "Python 3 (ipykernel)",
   "language": "python",
   "name": "python3"
  },
  "language_info": {
   "codemirror_mode": {
    "name": "ipython",
    "version": 3
   },
   "file_extension": ".py",
   "mimetype": "text/x-python",
   "name": "python",
   "nbconvert_exporter": "python",
   "pygments_lexer": "ipython3",
   "version": "3.12.4"
  }
 },
 "nbformat": 4,
 "nbformat_minor": 5
}
