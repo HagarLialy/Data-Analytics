{
 "cells": [
  {
   "cell_type": "markdown",
   "id": "1f53fe17-dfce-46c0-b093-33d5fe3ecd6a",
   "metadata": {},
   "source": [
    "# Sequential control flow 2 "
   ]
  },
  {
   "cell_type": "markdown",
   "id": "66b5e2a2-a43a-4715-9f46-57665b404644",
   "metadata": {},
   "source": [
    "## Data structure"
   ]
  },
  {
   "cell_type": "markdown",
   "id": "8a5cd832-b680-4476-963e-529f534b403b",
   "metadata": {},
   "source": [
    "## List"
   ]
  },
  {
   "cell_type": "code",
   "execution_count": 4,
   "id": "0b0789e8-852d-4f28-88c6-db50f77f23cf",
   "metadata": {},
   "outputs": [],
   "source": [
    "# create a list \n",
    "mixed_list = [\"dog\", 35.5, 65, [80,40]]"
   ]
  },
  {
   "cell_type": "code",
   "execution_count": 5,
   "id": "41a980a0-9c77-4f48-8d14-6fb4a4127c72",
   "metadata": {},
   "outputs": [
    {
     "data": {
      "text/plain": [
       "['h', 'o', 'w', ' ', 'y', 'o', 'u']"
      ]
     },
     "execution_count": 5,
     "metadata": {},
     "output_type": "execute_result"
    }
   ],
   "source": [
    "# convert string to list \n",
    "quote = \"how you\"\n",
    "string_to_list = list(quote)\n",
    "string_to_list"
   ]
  },
  {
   "cell_type": "markdown",
   "id": "bed4fbef-a730-4a4e-b9b7-28532eab25c1",
   "metadata": {},
   "source": [
    "#### Range "
   ]
  },
  {
   "cell_type": "code",
   "execution_count": 7,
   "id": "cd44bd6d-85d1-471a-a1f1-3b14915e86dd",
   "metadata": {},
   "outputs": [
    {
     "name": "stdout",
     "output_type": "stream",
     "text": [
      "[0, 1, 2, 3, 4]\n"
     ]
    }
   ],
   "source": [
    "# Generate a sequence of numbers starting from 0 to 4\n",
    "sequence = list(range(0,5))\n",
    "print(sequence)"
   ]
  },
  {
   "cell_type": "code",
   "execution_count": 8,
   "id": "a402ff78-256e-4ca5-90d5-9be7b7d095e5",
   "metadata": {},
   "outputs": [
    {
     "data": {
      "text/plain": [
       "[2, 5, 8, 11, 14, 17]"
      ]
     },
     "execution_count": 8,
     "metadata": {},
     "output_type": "execute_result"
    }
   ],
   "source": [
    "# Generate a sequence of numbers starting from 2 to 20 increment by 3\n",
    "list(range(2,20,3))"
   ]
  },
  {
   "cell_type": "code",
   "execution_count": 9,
   "id": "ead75e1b-9c4d-439e-a053-765c3a2f91c1",
   "metadata": {},
   "outputs": [
    {
     "data": {
      "text/plain": [
       "[1, 5, 7, 1, 5, 7, 1, 5, 7]"
      ]
     },
     "execution_count": 9,
     "metadata": {},
     "output_type": "execute_result"
    }
   ],
   "source": [
    "list_1 = [1,5,7]\n",
    "list_2 = [2,4,8]\n",
    "\n",
    "list_1 *3"
   ]
  },
  {
   "cell_type": "markdown",
   "id": "84b41316-48a2-494b-8d52-86615acace43",
   "metadata": {},
   "source": [
    "#### Concatenation "
   ]
  },
  {
   "cell_type": "code",
   "execution_count": 11,
   "id": "89944edc-fd99-45a6-a532-2a895926c158",
   "metadata": {},
   "outputs": [
    {
     "name": "stdout",
     "output_type": "stream",
     "text": [
      "[7, 8, 9, 2, 5]\n"
     ]
    }
   ],
   "source": [
    "# combine list 1 & list 2 \n",
    "\n",
    "List_1 = [7,8,9]\n",
    "List_2 = [2,5]\n",
    "\n",
    "list_3 = List_1 + List_2 \n",
    "print(list_3)"
   ]
  },
  {
   "cell_type": "markdown",
   "id": "fffa9368-84af-4363-b3c1-4da60a029068",
   "metadata": {},
   "source": [
    "#### Copy "
   ]
  },
  {
   "cell_type": "code",
   "execution_count": 13,
   "id": "92553836-7e90-4fdf-b262-95ff40fe2f24",
   "metadata": {},
   "outputs": [
    {
     "data": {
      "text/plain": [
       "['monkey', 'fox', 'zebra']"
      ]
     },
     "execution_count": 13,
     "metadata": {},
     "output_type": "execute_result"
    }
   ],
   "source": [
    "# copy zoo list to forest list so we can edit in both lists\n",
    "\n",
    "zoo = [\"lion\", \"fox\", \"zebra\"]\n",
    "forest = zoo \n",
    "zoo[0] = \"monkey\" \n",
    "forest"
   ]
  },
  {
   "cell_type": "code",
   "execution_count": 14,
   "id": "f0f1c3bd-cf37-4eda-b37e-6eb7fcd76061",
   "metadata": {},
   "outputs": [
    {
     "data": {
      "text/plain": [
       "[1, 7, 3, 4]"
      ]
     },
     "execution_count": 14,
     "metadata": {},
     "output_type": "execute_result"
    }
   ],
   "source": [
    "# create a separate copy of the first list \n",
    "\n",
    "first = [1,2,3,4]\n",
    "secondd = first.copy()\n",
    "secondd[1] = 7\n",
    "secondd"
   ]
  },
  {
   "cell_type": "markdown",
   "id": "ca4e5347-b439-4c70-bf09-76584ff03f10",
   "metadata": {},
   "source": [
    "#### Nested list "
   ]
  },
  {
   "cell_type": "code",
   "execution_count": 16,
   "id": "67152196-1028-4c43-98db-f7e6a5d9c8de",
   "metadata": {},
   "outputs": [
    {
     "data": {
      "text/plain": [
       "'cs'"
      ]
     },
     "execution_count": 16,
     "metadata": {},
     "output_type": "execute_result"
    }
   ],
   "source": [
    "# create a nested list for student names, degree and ages \n",
    "course = [[\"hagar\", \"sandy\", \"salma\"], [\"pt\", \"cs\", \"bis\"], [20,21,22]]\n",
    "\n",
    "# search in the list number 1 index number 1\n",
    "course[1][1]"
   ]
  },
  {
   "cell_type": "code",
   "execution_count": 17,
   "id": "a2a0bb4a-429e-4183-8745-b202833c9a0f",
   "metadata": {},
   "outputs": [
    {
     "data": {
      "text/plain": [
       "[['ebram', 'sandy', 'salma'], ['pt', 'cs', 'bis'], [20, 21, 22]]"
      ]
     },
     "execution_count": 17,
     "metadata": {},
     "output_type": "execute_result"
    }
   ],
   "source": [
    "# Edit index number zero in list number zero to be ebram \n",
    "course[0][0] = \"ebram\"\n",
    "course"
   ]
  },
  {
   "cell_type": "markdown",
   "id": "f7cbd7f7-a40c-4e85-83be-091154c48e1d",
   "metadata": {},
   "source": [
    "#### Duplicates "
   ]
  },
  {
   "cell_type": "code",
   "execution_count": 19,
   "id": "ecf68496-611e-4274-9d49-de2e5abd147e",
   "metadata": {},
   "outputs": [
    {
     "data": {
      "text/plain": [
       "[['ebram', 'sandy', 'salma'],\n",
       " ['pt', 'cs', 'bis'],\n",
       " [20, 21, 22],\n",
       " ['ebram', 'sandy', 'salma'],\n",
       " ['pt', 'cs', 'bis'],\n",
       " [20, 21, 22]]"
      ]
     },
     "execution_count": 19,
     "metadata": {},
     "output_type": "execute_result"
    }
   ],
   "source": [
    "# dupliacte the list course \n",
    "duplicate = course + course \n",
    "duplicate "
   ]
  },
  {
   "cell_type": "markdown",
   "id": "09b0fc5b-88d7-40d8-84e6-636e718be3bd",
   "metadata": {},
   "source": [
    "#### Modification "
   ]
  },
  {
   "cell_type": "code",
   "execution_count": 21,
   "id": "22b31fbd-1ffe-4585-a02b-1ac073a0867e",
   "metadata": {},
   "outputs": [
    {
     "data": {
      "text/plain": [
       "['hagar', 'ebram', 'omnia']"
      ]
     },
     "execution_count": 21,
     "metadata": {},
     "output_type": "execute_result"
    }
   ],
   "source": [
    "# to modify items in list  students ebram instead of hagar \n",
    "\n",
    "students = [\"hagar\", \"sandy\", \"omnia\"]\n",
    "students[1] = \"ebram\"\n",
    "students"
   ]
  },
  {
   "cell_type": "markdown",
   "id": "a598ce35-e891-42a9-addb-e8716a98cd15",
   "metadata": {},
   "source": [
    "#### Adding elements "
   ]
  },
  {
   "cell_type": "code",
   "execution_count": 23,
   "id": "4be2ba5f-6433-4a96-abcd-3862ecc00586",
   "metadata": {},
   "outputs": [
    {
     "data": {
      "text/plain": [
       "['hagar', 'ebram', 'omnia', 'salem']"
      ]
     },
     "execution_count": 23,
     "metadata": {},
     "output_type": "execute_result"
    }
   ],
   "source": [
    "# add element at the end of the students list \n",
    "students.append(\"salem\")\n",
    "students"
   ]
  },
  {
   "cell_type": "code",
   "execution_count": 24,
   "id": "1eb658df-53a3-42be-a8d7-2535ff2d460f",
   "metadata": {},
   "outputs": [
    {
     "data": {
      "text/plain": [
       "['hagar', 'ebram', 'omnia', 'salem', 'soaad', 'hoda']"
      ]
     },
     "execution_count": 24,
     "metadata": {},
     "output_type": "execute_result"
    }
   ],
   "source": [
    "# add list of two names to the students list \n",
    "students.extend([\"soaad\",\"hoda\"])\n",
    "students"
   ]
  },
  {
   "cell_type": "code",
   "execution_count": 25,
   "id": "0fc175c6-1bd8-4142-8d06-45b1d64f1679",
   "metadata": {},
   "outputs": [
    {
     "data": {
      "text/plain": [
       "['hagar', 'ebram', 'omnia', 'salem', 'ayman', 'soaad', 'hoda']"
      ]
     },
     "execution_count": 25,
     "metadata": {},
     "output_type": "execute_result"
    }
   ],
   "source": [
    "#add a name at index 4 \n",
    "students.insert(4,\"ayman\")\n",
    "students"
   ]
  },
  {
   "cell_type": "markdown",
   "id": "897981ac-4321-494f-b3c9-64275032fa75",
   "metadata": {},
   "source": [
    "#### Deleting elements "
   ]
  },
  {
   "cell_type": "code",
   "execution_count": 27,
   "id": "ecd00ba0-121a-4f92-9383-f01ce258b01d",
   "metadata": {},
   "outputs": [
    {
     "data": {
      "text/plain": [
       "['ebram', 'omnia', 'salem', 'ayman', 'soaad', 'hoda']"
      ]
     },
     "execution_count": 27,
     "metadata": {},
     "output_type": "execute_result"
    }
   ],
   "source": [
    "# from students, delete the name at index 0\n",
    "del students[0]\n",
    "students"
   ]
  },
  {
   "cell_type": "code",
   "execution_count": 28,
   "id": "aa7920b6-67b0-4319-99bb-6537d70cf1fd",
   "metadata": {},
   "outputs": [
    {
     "data": {
      "text/plain": [
       "['ebram', 'salem', 'ayman', 'soaad', 'hoda']"
      ]
     },
     "execution_count": 28,
     "metadata": {},
     "output_type": "execute_result"
    }
   ],
   "source": [
    "# from students remove omnia \n",
    "students.remove(\"omnia\")\n",
    "students"
   ]
  },
  {
   "cell_type": "code",
   "execution_count": 46,
   "id": "802a61f1-416b-47b3-9919-0bc3dbce3a86",
   "metadata": {},
   "outputs": [
    {
     "name": "stdout",
     "output_type": "stream",
     "text": [
      "ayman\n"
     ]
    }
   ],
   "source": [
    "#from studnets, remove name at indx two and and return the name \n",
    "new_students = students.pop(2)\n",
    "print(new_students)"
   ]
  },
  {
   "cell_type": "markdown",
   "id": "d23a486b-1b6a-4c0c-82f8-fd91e6d644f8",
   "metadata": {},
   "source": [
    "#### Check "
   ]
  },
  {
   "cell_type": "code",
   "execution_count": 49,
   "id": "0fe05f61-7dd2-4ff8-a06b-33b727054312",
   "metadata": {},
   "outputs": [
    {
     "data": {
      "text/plain": [
       "False"
      ]
     },
     "execution_count": 49,
     "metadata": {},
     "output_type": "execute_result"
    }
   ],
   "source": [
    "# Check if hagar name exists in the list \n",
    "\"Hagar\" in students"
   ]
  },
  {
   "cell_type": "markdown",
   "id": "c583872b-1431-4661-89b8-1d3d9746204c",
   "metadata": {},
   "source": [
    "#### Sorting a list "
   ]
  },
  {
   "cell_type": "code",
   "execution_count": 54,
   "id": "868d4587-c486-4fad-af8b-0b6e9b763598",
   "metadata": {},
   "outputs": [
    {
     "data": {
      "text/plain": [
       "['soaad', 'salem', 'hoda', 'ebram']"
      ]
     },
     "execution_count": 54,
     "metadata": {},
     "output_type": "execute_result"
    }
   ],
   "source": [
    "# Create a new list containing the elements in students sorted in descending order\n",
    "students_sorted = sorted(students, reverse = True)\n",
    "students_sorted"
   ]
  },
  {
   "cell_type": "code",
   "execution_count": 64,
   "id": "5516ee76-ccdb-42f8-b0bb-a2ee55c86597",
   "metadata": {},
   "outputs": [
    {
     "data": {
      "text/plain": [
       "['ebram', 'hoda', 'salem', 'soaad']"
      ]
     },
     "execution_count": 64,
     "metadata": {},
     "output_type": "execute_result"
    }
   ],
   "source": [
    "# sort students list in ascending order \n",
    "students.sort()\n",
    "students"
   ]
  },
  {
   "cell_type": "markdown",
   "id": "05c2de13-6ae8-40bc-a20a-8e646b4cfd30",
   "metadata": {},
   "source": [
    "#### Boolean methods "
   ]
  },
  {
   "cell_type": "code",
   "execution_count": 74,
   "id": "58eb326a-b74b-48ca-81d6-926cf53aabb2",
   "metadata": {},
   "outputs": [
    {
     "data": {
      "text/plain": [
       "True"
      ]
     },
     "execution_count": 74,
     "metadata": {},
     "output_type": "execute_result"
    }
   ],
   "source": [
    "# check if at least one element in the list is True\n",
    "any([1,0,1])"
   ]
  },
  {
   "cell_type": "code",
   "execution_count": 76,
   "id": "b18c804a-a3ce-413d-988a-14954bf9c64e",
   "metadata": {},
   "outputs": [
    {
     "data": {
      "text/plain": [
       "False"
      ]
     },
     "execution_count": 76,
     "metadata": {},
     "output_type": "execute_result"
    }
   ],
   "source": [
    "# check if all elements in the list is True\n",
    "all([0,0,0])"
   ]
  },
  {
   "cell_type": "markdown",
   "id": "63077349-cee0-41c5-8407-a2ca5c41d0d3",
   "metadata": {},
   "source": [
    "#### other built-in functions"
   ]
  },
  {
   "cell_type": "code",
   "execution_count": 70,
   "id": "48b60c48-100b-45fa-8141-de08e6180feb",
   "metadata": {},
   "outputs": [
    {
     "data": {
      "text/plain": [
       "1"
      ]
     },
     "execution_count": 70,
     "metadata": {},
     "output_type": "execute_result"
    }
   ],
   "source": [
    "# how many elemnets in enployees list \n",
    "employees = [\"mohamed, ahmed, sameh\"]\n",
    "len(employees)"
   ]
  },
  {
   "cell_type": "code",
   "execution_count": 68,
   "id": "e340f100-00ac-4dda-a2f0-6b5f7d40f6f0",
   "metadata": {},
   "outputs": [
    {
     "data": {
      "text/plain": [
       "1"
      ]
     },
     "execution_count": 68,
     "metadata": {},
     "output_type": "execute_result"
    }
   ],
   "source": [
    "# count occurance of egypt \n",
    "\n",
    "countries = [\"egypt\", \"saudi\", \"emirates\"]\n",
    "countries.count(\"egypt\")"
   ]
  },
  {
   "cell_type": "code",
   "execution_count": 72,
   "id": "8da1d7b9-6289-49d1-9abc-f8fdf3281c43",
   "metadata": {},
   "outputs": [
    {
     "data": {
      "text/plain": [
       "[(1, 4), (2, 5), (3, 6)]"
      ]
     },
     "execution_count": 72,
     "metadata": {},
     "output_type": "execute_result"
    }
   ],
   "source": [
    "# combine list x and y in a tuple \n",
    "\n",
    "x = [1,2,3]\n",
    "y= [4,5,6] \n",
    "zipped = zip(x,y)\n",
    "list(zipped)"
   ]
  },
  {
   "cell_type": "markdown",
   "id": "0ca2d73f-83ab-47fe-8926-f5c02d216c29",
   "metadata": {},
   "source": [
    "## Dictionary "
   ]
  },
  {
   "cell_type": "code",
   "execution_count": 57,
   "id": "98a692ce-9e0a-48d4-855f-a09c45ceffd3",
   "metadata": {},
   "outputs": [
    {
     "name": "stdout",
     "output_type": "stream",
     "text": [
      "{'color': 'green', 'points': 5}\n"
     ]
    }
   ],
   "source": [
    "# start with empty dictionary \n",
    "\n",
    "alien_0 = {}\n",
    "alien_0['color']=\"green\"\n",
    "alien_0[\"points\"]=5\n",
    "print(alien_0)"
   ]
  },
  {
   "cell_type": "code",
   "execution_count": 80,
   "id": "a38d4170-3a16-4abe-946e-cd8f25f9c755",
   "metadata": {},
   "outputs": [
    {
     "name": "stdout",
     "output_type": "stream",
     "text": [
      "{'names': 'sara', 'age': 20}\n"
     ]
    }
   ],
   "source": [
    "# create depi dictionary \n",
    "\n",
    "depi = {}\n",
    "depi[\"names\"]= \"sara\"\n",
    "depi[\"age\"]= 20\n",
    "print(depi)"
   ]
  },
  {
   "cell_type": "code",
   "execution_count": 88,
   "id": "06a37b97-44f6-46d8-aa60-0a6cad54bdb9",
   "metadata": {},
   "outputs": [
    {
     "data": {
      "text/plain": [
       "{'names': 'sara', 'age': '90', 'name': 'salma'}"
      ]
     },
     "execution_count": 88,
     "metadata": {},
     "output_type": "execute_result"
    }
   ],
   "source": [
    "# Update the dictionary and add salma name \n",
    "depi[\"name\"] = \"salma\"\n",
    "depi"
   ]
  },
  {
   "cell_type": "code",
   "execution_count": 94,
   "id": "c19f868a-4678-4365-b8fd-4dc933f71346",
   "metadata": {},
   "outputs": [
    {
     "data": {
      "text/plain": [
       "{'names': 'hoda', 'age': '90', 'name': 'hoda'}"
      ]
     },
     "execution_count": 94,
     "metadata": {},
     "output_type": "execute_result"
    }
   ],
   "source": [
    "#Add two key-value pairs \n",
    "depi_1 = {\"names\":\"hoda\", \"age\":\"90\"}\n",
    "depi.update(depi_1)\n",
    "depi"
   ]
  },
  {
   "cell_type": "code",
   "execution_count": 100,
   "id": "c5d86b1d-7e04-4eee-b86c-be0a4d892afd",
   "metadata": {},
   "outputs": [
    {
     "data": {
      "text/plain": [
       "{'name': 'hoda'}"
      ]
     },
     "execution_count": 100,
     "metadata": {},
     "output_type": "execute_result"
    }
   ],
   "source": [
    "# delete two key_value pairs \n",
    "del depi[\"age\"]\n",
    "depi"
   ]
  },
  {
   "cell_type": "code",
   "execution_count": 102,
   "id": "dcccd114-e451-4b78-a6e8-f9ad3eca5803",
   "metadata": {},
   "outputs": [
    {
     "data": {
      "text/plain": [
       "{'one': 1, 'two': 2}"
      ]
     },
     "execution_count": 102,
     "metadata": {},
     "output_type": "execute_result"
    }
   ],
   "source": [
    "# creating dictionary by another way \n",
    "\n",
    "numbers = dict(one=1, two=2)\n",
    "numbers "
   ]
  },
  {
   "cell_type": "markdown",
   "id": "b0f18b64-5421-4393-bf86-c0a1b1d8869f",
   "metadata": {},
   "source": [
    "## Set"
   ]
  },
  {
   "cell_type": "code",
   "execution_count": 129,
   "id": "5be9219d-f266-4eab-8252-abeef470c028",
   "metadata": {},
   "outputs": [],
   "source": [
    "# create set \n",
    "M = {\"h\", \"n\", \"s\"}\n",
    "N = {\"l\", \"o\", \"s\"}"
   ]
  },
  {
   "cell_type": "code",
   "execution_count": 109,
   "id": "e22808d0-3b3e-46fa-8eab-082ec82fcbc1",
   "metadata": {},
   "outputs": [
    {
     "data": {
      "text/plain": [
       "True"
      ]
     },
     "execution_count": 109,
     "metadata": {},
     "output_type": "execute_result"
    }
   ],
   "source": [
    "#check if h un set M \n",
    "\n",
    "\"h\" in M"
   ]
  },
  {
   "cell_type": "markdown",
   "id": "b3562d42-504c-4782-8757-5c8a102f9a59",
   "metadata": {},
   "source": [
    "#### Modification"
   ]
  },
  {
   "cell_type": "code",
   "execution_count": 114,
   "id": "3323a8c9-db2b-4369-9c59-cd409a44b6c4",
   "metadata": {},
   "outputs": [
    {
     "data": {
      "text/plain": [
       "{'h', 'n', 'q', 's'}"
      ]
     },
     "execution_count": 114,
     "metadata": {},
     "output_type": "execute_result"
    }
   ],
   "source": [
    "# add \"q\" in M \n",
    "M.add(\"q\")\n",
    "M"
   ]
  },
  {
   "cell_type": "code",
   "execution_count": 116,
   "id": "38c8d2fd-8d9d-46d9-8822-79e6fd0de4a3",
   "metadata": {},
   "outputs": [
    {
     "data": {
      "text/plain": [
       "{'l', 'o', 'p', 'r', 'u'}"
      ]
     },
     "execution_count": 116,
     "metadata": {},
     "output_type": "execute_result"
    }
   ],
   "source": [
    "# add \"r\" and \"u\" in N \n",
    "N.update({\"u\",\"r\"})\n",
    "N"
   ]
  },
  {
   "cell_type": "code",
   "execution_count": 120,
   "id": "226fb2e1-8746-44a0-93b1-25d77fc6465b",
   "metadata": {},
   "outputs": [
    {
     "data": {
      "text/plain": [
       "{'h', 'q', 's'}"
      ]
     },
     "execution_count": 120,
     "metadata": {},
     "output_type": "execute_result"
    }
   ],
   "source": [
    "# remove n from M\n",
    "M.remove(\"n\")\n",
    "M"
   ]
  },
  {
   "cell_type": "markdown",
   "id": "6616ec3e-2be1-4695-ae87-3fb074dd00e3",
   "metadata": {},
   "source": [
    "#### Operations "
   ]
  },
  {
   "cell_type": "code",
   "execution_count": 125,
   "id": "b6d84da4-b94a-4259-acf9-8147ff3d47b4",
   "metadata": {},
   "outputs": [
    {
     "data": {
      "text/plain": [
       "{'h', 'l', 'o', 'p', 'q', 'r', 's', 'u'}"
      ]
     },
     "execution_count": 125,
     "metadata": {},
     "output_type": "execute_result"
    }
   ],
   "source": [
    "# create a new set contains all elements from M & N \n",
    "new_set = N.union(M)\n",
    "new_set"
   ]
  },
  {
   "cell_type": "code",
   "execution_count": 131,
   "id": "3ded5cdc-301a-4897-ba9f-8905939646a3",
   "metadata": {},
   "outputs": [
    {
     "data": {
      "text/plain": [
       "{'s'}"
      ]
     },
     "execution_count": 131,
     "metadata": {},
     "output_type": "execute_result"
    }
   ],
   "source": [
    "# cretae a new set to contain common elements from both M and N \n",
    "new_set1 = N.intersection(M)\n",
    "new_set1"
   ]
  },
  {
   "cell_type": "code",
   "execution_count": 135,
   "id": "41f9443e-0c7b-4d97-baeb-724366ee8a52",
   "metadata": {},
   "outputs": [
    {
     "data": {
      "text/plain": [
       "False"
      ]
     },
     "execution_count": 135,
     "metadata": {},
     "output_type": "execute_result"
    }
   ],
   "source": [
    "# check if the N is subset from M \n",
    "ifsubsett = N.issubset(M)\n",
    "ifsubsett"
   ]
  },
  {
   "cell_type": "code",
   "execution_count": 141,
   "id": "c613b579-afff-4086-8c9e-b2545e58294d",
   "metadata": {},
   "outputs": [],
   "source": [
    "# remove all elements from N set \n",
    "removeee = N.clear()\n",
    "removeee"
   ]
  }
 ],
 "metadata": {
  "kernelspec": {
   "display_name": "Python 3 (ipykernel)",
   "language": "python",
   "name": "python3"
  },
  "language_info": {
   "codemirror_mode": {
    "name": "ipython",
    "version": 3
   },
   "file_extension": ".py",
   "mimetype": "text/x-python",
   "name": "python",
   "nbconvert_exporter": "python",
   "pygments_lexer": "ipython3",
   "version": "3.12.4"
  }
 },
 "nbformat": 4,
 "nbformat_minor": 5
}
