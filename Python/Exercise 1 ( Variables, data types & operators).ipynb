{
 "cells": [
  {
   "cell_type": "markdown",
   "id": "ffa401af-06c9-4ef7-b073-c6e1387485e4",
   "metadata": {},
   "source": [
    "# Python Basics"
   ]
  },
  {
   "cell_type": "markdown",
   "id": "dc7ce9f3-63b0-4f45-9c26-6f7e695bbea2",
   "metadata": {},
   "source": [
    "## Variables "
   ]
  },
  {
   "cell_type": "markdown",
   "id": "5ea5d820-71d9-43be-8979-f92ed2a4a283",
   "metadata": {},
   "source": [
    "##### Assigning single variable "
   ]
  },
  {
   "cell_type": "code",
   "execution_count": 4,
   "id": "dcba33f2-e15b-4ffb-b578-703fd66dee10",
   "metadata": {},
   "outputs": [
    {
     "name": "stdout",
     "output_type": "stream",
     "text": [
      "5\n"
     ]
    }
   ],
   "source": [
    "# Assign x to have a value of 5\n",
    "x = 5\n",
    "\n",
    "# Print the value of x\n",
    "print(x)"
   ]
  },
  {
   "cell_type": "markdown",
   "id": "adf9f5b5-6e03-4b5c-919f-3759c61c1a9f",
   "metadata": {},
   "source": [
    "##### Assigning multiple variables "
   ]
  },
  {
   "cell_type": "code",
   "execution_count": 6,
   "id": "6c1780ae-d988-4cee-b67c-4513dcca2b80",
   "metadata": {},
   "outputs": [
    {
     "name": "stdout",
     "output_type": "stream",
     "text": [
      "10.5\n",
      "12\n",
      "14\n"
     ]
    }
   ],
   "source": [
    "# Assign multiple variables\n",
    "a, b, c = 10.5, 12, 14\n",
    "\n",
    "# Let's look at the values of a, b, and c\n",
    "print(a)\n",
    "print(b)\n",
    "print(c)"
   ]
  },
  {
   "cell_type": "markdown",
   "id": "3a4e237c-fa55-40e6-a7e4-2d2458fb0c34",
   "metadata": {},
   "source": [
    "##### Reassigning variable "
   ]
  },
  {
   "cell_type": "code",
   "execution_count": 12,
   "id": "9c8bf978-634b-46b9-939a-f8b38e8633dc",
   "metadata": {},
   "outputs": [
    {
     "name": "stdout",
     "output_type": "stream",
     "text": [
      "13\n"
     ]
    }
   ],
   "source": [
    "# Reassign x to have a value of 13\n",
    "x = 13\n",
    "\n",
    "# Print the new/updated value of x\n",
    "print(x)"
   ]
  },
  {
   "cell_type": "markdown",
   "id": "10c90c53-a05d-47cb-905d-f81ed2313c5a",
   "metadata": {},
   "source": [
    "## Data types "
   ]
  },
  {
   "cell_type": "markdown",
   "id": "10d8829b-7cc3-4fc1-a286-77bc65dbfe96",
   "metadata": {},
   "source": [
    "##### Identify data taypes "
   ]
  },
  {
   "cell_type": "code",
   "execution_count": 77,
   "id": "d614a197-734f-4461-a0d6-430614820cdc",
   "metadata": {},
   "outputs": [
    {
     "name": "stdout",
     "output_type": "stream",
     "text": [
      "<class 'int'>\n"
     ]
    }
   ],
   "source": [
    "# identify int variable \n",
    "z=5 \n",
    "print(type(z))"
   ]
  },
  {
   "cell_type": "code",
   "execution_count": 44,
   "id": "14b598d8-d48a-412d-80cc-bc02b58e9dd2",
   "metadata": {},
   "outputs": [
    {
     "name": "stdout",
     "output_type": "stream",
     "text": [
      "<class 'float'>\n"
     ]
    }
   ],
   "source": [
    "# identify float variable \n",
    "p = 5.5\n",
    "print(type(p))"
   ]
  },
  {
   "cell_type": "code",
   "execution_count": 40,
   "id": "dd7dffba-8144-4adf-945d-fbca45a3f610",
   "metadata": {},
   "outputs": [
    {
     "name": "stdout",
     "output_type": "stream",
     "text": [
      "<class 'str'>\n"
     ]
    }
   ],
   "source": [
    "# identify string \n",
    "\n",
    "Hello_world = \"hello, python\"\n",
    "print(type(\"hello, python\"))"
   ]
  },
  {
   "cell_type": "markdown",
   "id": "124c31e3-d345-43c6-a27b-1001048a7c07",
   "metadata": {},
   "source": [
    "##### Modify string variable "
   ]
  },
  {
   "cell_type": "code",
   "execution_count": 38,
   "id": "8de5ba60-b5e5-47ac-854c-98d1f91620cb",
   "metadata": {},
   "outputs": [
    {
     "name": "stdout",
     "output_type": "stream",
     "text": [
      "hello, python\n",
      "hello, python I_am_a_dataAnalyst\n"
     ]
    }
   ],
   "source": [
    "# to modify defined string \n",
    "Hello_world = \"hello, python\"\n",
    "I_am_a_dataAnalyst = Hello_world + \" I_am_a_dataAnalyst\"\n",
    "print(Hello_world)\n",
    "print(I_am_a_dataAnalyst)"
   ]
  },
  {
   "cell_type": "markdown",
   "id": "11423945-bf47-41a7-849a-d6f6d3e52dc0",
   "metadata": {},
   "source": [
    "##### Specify data type "
   ]
  },
  {
   "cell_type": "code",
   "execution_count": 52,
   "id": "88de396f-ae5d-47b8-ae58-f8bb858eb170",
   "metadata": {},
   "outputs": [
    {
     "name": "stdout",
     "output_type": "stream",
     "text": [
      "3 : <class 'int'>\n"
     ]
    }
   ],
   "source": [
    "# to specifiy data type \n",
    "\n",
    "values = int(\"3\")\n",
    "print(values, \":\", type(values))"
   ]
  },
  {
   "cell_type": "markdown",
   "id": "a11cc7c7-5b39-4620-8aaf-d8a9339a493d",
   "metadata": {},
   "source": [
    "##### Convert data type"
   ]
  },
  {
   "cell_type": "code",
   "execution_count": 65,
   "id": "a01c06b1-2ff1-4471-963a-945ca3d20674",
   "metadata": {},
   "outputs": [
    {
     "name": "stdout",
     "output_type": "stream",
     "text": [
      "<class 'int'>\n",
      "<class 'float'>\n"
     ]
    }
   ],
   "source": [
    "# to convert data type \n",
    "\n",
    "f = 5 \n",
    "print(type(f))\n",
    "\n",
    "d= float(f)\n",
    "print(type(d))"
   ]
  },
  {
   "cell_type": "markdown",
   "id": "3eca39d5-e90c-49db-a706-bd0eca23a72b",
   "metadata": {},
   "source": [
    "## Opertators "
   ]
  },
  {
   "cell_type": "markdown",
   "id": "99a0222a-6437-435d-833d-d2a031b14c25",
   "metadata": {},
   "source": [
    "### Arthmetic operators "
   ]
  },
  {
   "cell_type": "code",
   "execution_count": 86,
   "id": "c9ec35f8-015d-4efe-8640-4ee87d0ead0f",
   "metadata": {},
   "outputs": [
    {
     "name": "stdout",
     "output_type": "stream",
     "text": [
      "12\n"
     ]
    }
   ],
   "source": [
    "# add 5 + 7\n",
    "print(5+7)"
   ]
  },
  {
   "cell_type": "code",
   "execution_count": 88,
   "id": "25145edb-d410-4243-87a9-1e3a7a7151c0",
   "metadata": {},
   "outputs": [
    {
     "name": "stdout",
     "output_type": "stream",
     "text": [
      "2\n"
     ]
    }
   ],
   "source": [
    "# subtract 7 - 5 \n",
    "print(7-5)"
   ]
  },
  {
   "cell_type": "code",
   "execution_count": 90,
   "id": "52e91fcc-7d80-4def-b149-625b35aead59",
   "metadata": {},
   "outputs": [
    {
     "name": "stdout",
     "output_type": "stream",
     "text": [
      "4.0\n"
     ]
    }
   ],
   "source": [
    "# divide 8 / 2\n",
    "print(8/2)"
   ]
  },
  {
   "cell_type": "code",
   "execution_count": 92,
   "id": "4783b147-95f5-43a4-911d-cc2c31fc1e8c",
   "metadata": {},
   "outputs": [
    {
     "name": "stdout",
     "output_type": "stream",
     "text": [
      "35\n"
     ]
    }
   ],
   "source": [
    "# multiply 7 * 5\n",
    "print(7*5)"
   ]
  },
  {
   "cell_type": "code",
   "execution_count": 94,
   "id": "02edcc8a-9a82-4454-bf07-7c0087a9995d",
   "metadata": {},
   "outputs": [
    {
     "name": "stdout",
     "output_type": "stream",
     "text": [
      "1\n"
     ]
    }
   ],
   "source": [
    "# floor division \n",
    "print(9%4)"
   ]
  },
  {
   "cell_type": "code",
   "execution_count": 98,
   "id": "9aac9307-fc2c-47f9-98ef-4f8b035b08af",
   "metadata": {},
   "outputs": [
    {
     "name": "stdout",
     "output_type": "stream",
     "text": [
      "2\n"
     ]
    }
   ],
   "source": [
    "# modulus division \n",
    "print(9//4)"
   ]
  },
  {
   "cell_type": "code",
   "execution_count": null,
   "id": "f6c76d9a-feb8-4765-a573-73a24882a0af",
   "metadata": {},
   "outputs": [],
   "source": []
  }
 ],
 "metadata": {
  "kernelspec": {
   "display_name": "Python 3 (ipykernel)",
   "language": "python",
   "name": "python3"
  },
  "language_info": {
   "codemirror_mode": {
    "name": "ipython",
    "version": 3
   },
   "file_extension": ".py",
   "mimetype": "text/x-python",
   "name": "python",
   "nbconvert_exporter": "python",
   "pygments_lexer": "ipython3",
   "version": "3.12.4"
  }
 },
 "nbformat": 4,
 "nbformat_minor": 5
}
