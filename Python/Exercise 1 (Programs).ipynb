{
 "cells": [
  {
   "cell_type": "markdown",
   "id": "7b264c65-e410-4cb9-af73-5032d469131d",
   "metadata": {},
   "source": [
    "# Programs exercises 1"
   ]
  },
  {
   "cell_type": "markdown",
   "id": "abcd8a7a-9ba5-430a-80fa-75824debfa1c",
   "metadata": {},
   "source": [
    "#### Program to calculate area and circumferance based on given radius number "
   ]
  },
  {
   "cell_type": "code",
   "execution_count": 4,
   "id": "f249db21-73a7-44ed-9cc7-5dc3ab525004",
   "metadata": {},
   "outputs": [
    {
     "name": "stdin",
     "output_type": "stream",
     "text": [
      "enter the radius 50\n"
     ]
    }
   ],
   "source": [
    "radius = int(input(\"enter the radius\"))"
   ]
  },
  {
   "cell_type": "code",
   "execution_count": 6,
   "id": "5d86bc8e-4078-47a8-9b2a-923cf4930355",
   "metadata": {},
   "outputs": [
    {
     "name": "stdout",
     "output_type": "stream",
     "text": [
      "the area is 314.0 and the circ is 7850.0\n"
     ]
    }
   ],
   "source": [
    "area = radius*2*3.14 \n",
    "circ = (radius**2)*3.14\n",
    "A = f\"the area is {area} and the circ is {circ}\"\n",
    "print(A)"
   ]
  },
  {
   "cell_type": "markdown",
   "id": "93f0bbe5-a77b-410d-8400-8d8849b34662",
   "metadata": {},
   "source": [
    "#### Program to convert given number of days to measure a time given in years, weeks & days"
   ]
  },
  {
   "cell_type": "code",
   "execution_count": 9,
   "id": "1d37bc7a-d9d4-42a6-993b-cc8241154395",
   "metadata": {},
   "outputs": [
    {
     "name": "stdin",
     "output_type": "stream",
     "text": [
      "enter number of days 375\n"
     ]
    }
   ],
   "source": [
    "number_of_days = int(input(\"enter number of days\"))"
   ]
  },
  {
   "cell_type": "code",
   "execution_count": 11,
   "id": "9f71e993-99fd-4318-bd83-cc3d764ad81d",
   "metadata": {},
   "outputs": [
    {
     "name": "stdout",
     "output_type": "stream",
     "text": [
      "the days contain 1 years and 1 weeks and 3 days\n"
     ]
    }
   ],
   "source": [
    "number_of_years = int(number_of_days/365)\n",
    "number_of_weeks = int(number_of_days%365/7)\n",
    "remaining_number_of_days = int(number_of_days%365%7)\n",
    "B = f\"the days contain {number_of_years} years and {number_of_weeks} weeks and {remaining_number_of_days} days\"\n",
    "print(B)"
   ]
  },
  {
   "cell_type": "code",
   "execution_count": null,
   "id": "5b63ea43-24a5-4dab-b668-8476653627a9",
   "metadata": {},
   "outputs": [],
   "source": []
  }
 ],
 "metadata": {
  "kernelspec": {
   "display_name": "Python 3 (ipykernel)",
   "language": "python",
   "name": "python3"
  },
  "language_info": {
   "codemirror_mode": {
    "name": "ipython",
    "version": 3
   },
   "file_extension": ".py",
   "mimetype": "text/x-python",
   "name": "python",
   "nbconvert_exporter": "python",
   "pygments_lexer": "ipython3",
   "version": "3.12.4"
  }
 },
 "nbformat": 4,
 "nbformat_minor": 5
}
