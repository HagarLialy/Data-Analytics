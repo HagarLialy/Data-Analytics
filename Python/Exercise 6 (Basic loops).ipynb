{
 "cells": [
  {
   "cell_type": "markdown",
   "id": "2ab2650d",
   "metadata": {},
   "source": [
    "## Loops Exercises"
   ]
  },
  {
   "cell_type": "markdown",
   "id": "5a0b7683",
   "metadata": {
    "tags": []
   },
   "source": [
    "### Exercise 1: Basic `for` loop\n",
    "\n",
    "**Objective:** Print each animal's name from the animals list using a `for` loop."
   ]
  },
  {
   "cell_type": "code",
   "execution_count": 3,
   "id": "0e3acd00",
   "metadata": {},
   "outputs": [
    {
     "name": "stdout",
     "output_type": "stream",
     "text": [
      "Great White Shark\n",
      "Blue Whale\n",
      "African Elephant\n",
      "Bald Eagle\n",
      "Orangutan\n",
      "Tiger\n",
      "Panda\n",
      "Koala\n"
     ]
    }
   ],
   "source": [
    "animals = ['Great White Shark', 'Blue Whale', 'African Elephant', 'Bald Eagle', 'Orangutan', 'Tiger', 'Panda', 'Koala']\n",
    "\n",
    "for animal in animals:\n",
    "    print(animal)\n"
   ]
  },
  {
   "cell_type": "markdown",
   "id": "c2096612",
   "metadata": {},
   "source": [
    "### Exercise 2: `while` loop with condition\n",
    "\n",
    "**Objective:** Use a `while` loop to print numbers from 0 to 4.\n"
   ]
  },
  {
   "cell_type": "code",
   "execution_count": 17,
   "id": "467fd84f",
   "metadata": {},
   "outputs": [
    {
     "name": "stdout",
     "output_type": "stream",
     "text": [
      "0\n",
      "1\n",
      "2\n",
      "3\n",
      "4\n"
     ]
    }
   ],
   "source": [
    "i = 0\n",
    "while i < 5:\n",
    "    print(i)\n",
    "    i += 1"
   ]
  },
  {
   "cell_type": "markdown",
   "id": "5e825fe0",
   "metadata": {
    "vscode": {
     "languageId": "plaintext"
    }
   },
   "source": [
    "### Exercise 3: Using `break` in a loop\n",
    "\n",
    "**Objective:** Stop the loop once you find `Orangutan` in the animals list."
   ]
  },
  {
   "cell_type": "code",
   "execution_count": 42,
   "id": "3aba36fb",
   "metadata": {},
   "outputs": [
    {
     "name": "stdout",
     "output_type": "stream",
     "text": [
      "Great White Shark\n",
      "Blue Whale\n",
      "African Elephant\n",
      "Bald Eagle\n"
     ]
    }
   ],
   "source": [
    "for animal in animals:\n",
    "    if animal == \"Orangutan\":\n",
    "        break\n",
    "    print(animal)"
   ]
  },
  {
   "cell_type": "markdown",
   "id": "ffee6d2c",
   "metadata": {},
   "source": [
    "### Exercise 4: Using `continue` in a loop\n",
    "\n",
    "**Objective:** Print all animals except 'Bald Eagle' using a for loop and continue statement."
   ]
  },
  {
   "cell_type": "code",
   "execution_count": 50,
   "id": "d1c33f26",
   "metadata": {},
   "outputs": [
    {
     "name": "stdout",
     "output_type": "stream",
     "text": [
      "Great White Shark\n",
      "Blue Whale\n",
      "African Elephant\n",
      "Orangutan\n",
      "Tiger\n",
      "Panda\n",
      "Koala\n"
     ]
    }
   ],
   "source": [
    "for animal in animals:\n",
    "    if animal == \"Bald Eagle\":\n",
    "        continue\n",
    "    print(animal)"
   ]
  },
  {
   "cell_type": "markdown",
   "id": "f02c2669",
   "metadata": {},
   "source": [
    "### Exercise 5: Using `pass` in a loop\n",
    "\n",
    "**Objective:** Create a loop that does nothing when 'Panda' is encountered, but prints other animals."
   ]
  },
  {
   "cell_type": "code",
   "execution_count": 54,
   "id": "a915748c",
   "metadata": {},
   "outputs": [
    {
     "name": "stdout",
     "output_type": "stream",
     "text": [
      "Great White Shark\n",
      "Blue Whale\n",
      "African Elephant\n",
      "Bald Eagle\n",
      "Orangutan\n",
      "Tiger\n",
      "Koala\n"
     ]
    }
   ],
   "source": [
    " for animal in animals:\n",
    "    if animal == \"Panda\":\n",
    "        pass\n",
    "    else:\n",
    "        print(animal)"
   ]
  }
 ],
 "metadata": {
  "kernelspec": {
   "display_name": "Python 3 (ipykernel)",
   "language": "python",
   "name": "python3"
  },
  "language_info": {
   "codemirror_mode": {
    "name": "ipython",
    "version": 3
   },
   "file_extension": ".py",
   "mimetype": "text/x-python",
   "name": "python",
   "nbconvert_exporter": "python",
   "pygments_lexer": "ipython3",
   "version": "3.12.4"
  }
 },
 "nbformat": 4,
 "nbformat_minor": 5
}
