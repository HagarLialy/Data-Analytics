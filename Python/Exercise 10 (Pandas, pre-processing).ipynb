{
 "cells": [
  {
   "cell_type": "markdown",
   "id": "5ec7d60f-2b56-47b2-9975-a03ceae76903",
   "metadata": {},
   "source": [
    "# Pandas (Cleaning Data & Plotting)"
   ]
  },
  {
   "cell_type": "markdown",
   "id": "e53d8a96-e5e6-442d-b64d-3a8510379aa1",
   "metadata": {},
   "source": [
    "## Craeting a table from data"
   ]
  },
  {
   "cell_type": "code",
   "execution_count": 132,
   "id": "21343f4e-0b02-40d2-b20b-9d0e72fe407c",
   "metadata": {},
   "outputs": [],
   "source": [
    "import pandas as pd\n",
    "import numpy as np \n",
    "import matplotlib.pyplot as plt"
   ]
  },
  {
   "cell_type": "code",
   "execution_count": 7,
   "id": "c8622a53-8933-4b4b-a21c-5c09e9ac1103",
   "metadata": {},
   "outputs": [
    {
     "name": "stdout",
     "output_type": "stream",
     "text": [
      "    Cars  numbers\n",
      "0    BMW        1\n",
      "1  volvo        3\n",
      "2   ford        7\n",
      "<class 'pandas.core.frame.DataFrame'>\n"
     ]
    }
   ],
   "source": [
    "MyDataSet = pd.DataFrame({\"Cars\": [\"BMW\", \"volvo\", \"ford\"], \"numbers\": [1,3,7]})\n",
    "print(MyDataSet)\n",
    "print(type(MyDataSet))"
   ]
  },
  {
   "cell_type": "code",
   "execution_count": 9,
   "id": "3cd3889d-01d3-4afd-8dc0-35de77257c98",
   "metadata": {},
   "outputs": [
    {
     "name": "stdout",
     "output_type": "stream",
     "text": [
      "Cars       BMW\n",
      "numbers      1\n",
      "Name: 0, dtype: object\n",
      "1\n"
     ]
    }
   ],
   "source": [
    "# accessing specific rows \n",
    "\n",
    "print(MyDataSet.loc[0])\n",
    "print(MyDataSet.iloc[0,1])"
   ]
  },
  {
   "cell_type": "markdown",
   "id": "dcd3cc13-bebc-44ac-9ff1-22dc20569013",
   "metadata": {},
   "source": [
    "## Creating series "
   ]
  },
  {
   "cell_type": "code",
   "execution_count": 11,
   "id": "e1584b52-60ba-41fa-90cd-367c60669cde",
   "metadata": {},
   "outputs": [
    {
     "name": "stdout",
     "output_type": "stream",
     "text": [
      "0    1\n",
      "1    2\n",
      "2    3\n",
      "dtype: int64\n"
     ]
    }
   ],
   "source": [
    "a = [1,2,3]\n",
    "d = pd.Series(a)\n",
    "print(d)"
   ]
  },
  {
   "cell_type": "code",
   "execution_count": 13,
   "id": "0ded7a9c-833c-499e-966e-6aff637f3331",
   "metadata": {},
   "outputs": [
    {
     "name": "stdout",
     "output_type": "stream",
     "text": [
      "X    1\n",
      "Y    2\n",
      "Z    3\n",
      "dtype: int64\n"
     ]
    }
   ],
   "source": [
    "# craeting labels to access data \n",
    "\n",
    "z = pd.Series(a, index = [\"X\",\"Y\",\"Z\"])\n",
    "print(z)"
   ]
  },
  {
   "cell_type": "markdown",
   "id": "ffb8fa86-d6c6-4887-a9bc-12da147d4367",
   "metadata": {},
   "source": [
    "## Load data "
   ]
  },
  {
   "cell_type": "code",
   "execution_count": 105,
   "id": "6c1b342e-9b4a-4493-af1f-5d027cb1c0fd",
   "metadata": {},
   "outputs": [
    {
     "data": {
      "text/html": [
       "<div>\n",
       "<style scoped>\n",
       "    .dataframe tbody tr th:only-of-type {\n",
       "        vertical-align: middle;\n",
       "    }\n",
       "\n",
       "    .dataframe tbody tr th {\n",
       "        vertical-align: top;\n",
       "    }\n",
       "\n",
       "    .dataframe thead th {\n",
       "        text-align: right;\n",
       "    }\n",
       "</style>\n",
       "<table border=\"1\" class=\"dataframe\">\n",
       "  <thead>\n",
       "    <tr style=\"text-align: right;\">\n",
       "      <th></th>\n",
       "      <th>Duration</th>\n",
       "      <th>Pulse</th>\n",
       "      <th>Maxpulse</th>\n",
       "      <th>Calories</th>\n",
       "    </tr>\n",
       "  </thead>\n",
       "  <tbody>\n",
       "    <tr>\n",
       "      <th>0</th>\n",
       "      <td>60</td>\n",
       "      <td>110</td>\n",
       "      <td>130</td>\n",
       "      <td>409.1</td>\n",
       "    </tr>\n",
       "    <tr>\n",
       "      <th>1</th>\n",
       "      <td>60</td>\n",
       "      <td>117</td>\n",
       "      <td>145</td>\n",
       "      <td>479.0</td>\n",
       "    </tr>\n",
       "    <tr>\n",
       "      <th>2</th>\n",
       "      <td>60</td>\n",
       "      <td>103</td>\n",
       "      <td>135</td>\n",
       "      <td>340.0</td>\n",
       "    </tr>\n",
       "    <tr>\n",
       "      <th>3</th>\n",
       "      <td>45</td>\n",
       "      <td>109</td>\n",
       "      <td>175</td>\n",
       "      <td>282.4</td>\n",
       "    </tr>\n",
       "    <tr>\n",
       "      <th>4</th>\n",
       "      <td>45</td>\n",
       "      <td>117</td>\n",
       "      <td>148</td>\n",
       "      <td>406.0</td>\n",
       "    </tr>\n",
       "    <tr>\n",
       "      <th>5</th>\n",
       "      <td>60</td>\n",
       "      <td>102</td>\n",
       "      <td>127</td>\n",
       "      <td>300.0</td>\n",
       "    </tr>\n",
       "    <tr>\n",
       "      <th>6</th>\n",
       "      <td>60</td>\n",
       "      <td>110</td>\n",
       "      <td>136</td>\n",
       "      <td>374.0</td>\n",
       "    </tr>\n",
       "    <tr>\n",
       "      <th>7</th>\n",
       "      <td>450</td>\n",
       "      <td>104</td>\n",
       "      <td>134</td>\n",
       "      <td>253.3</td>\n",
       "    </tr>\n",
       "    <tr>\n",
       "      <th>8</th>\n",
       "      <td>30</td>\n",
       "      <td>109</td>\n",
       "      <td>133</td>\n",
       "      <td>195.1</td>\n",
       "    </tr>\n",
       "    <tr>\n",
       "      <th>9</th>\n",
       "      <td>60</td>\n",
       "      <td>98</td>\n",
       "      <td>124</td>\n",
       "      <td>269.0</td>\n",
       "    </tr>\n",
       "    <tr>\n",
       "      <th>10</th>\n",
       "      <td>60</td>\n",
       "      <td>103</td>\n",
       "      <td>147</td>\n",
       "      <td>329.3</td>\n",
       "    </tr>\n",
       "    <tr>\n",
       "      <th>11</th>\n",
       "      <td>60</td>\n",
       "      <td>100</td>\n",
       "      <td>120</td>\n",
       "      <td>250.7</td>\n",
       "    </tr>\n",
       "    <tr>\n",
       "      <th>12</th>\n",
       "      <td>60</td>\n",
       "      <td>100</td>\n",
       "      <td>120</td>\n",
       "      <td>250.7</td>\n",
       "    </tr>\n",
       "    <tr>\n",
       "      <th>13</th>\n",
       "      <td>60</td>\n",
       "      <td>106</td>\n",
       "      <td>128</td>\n",
       "      <td>345.3</td>\n",
       "    </tr>\n",
       "    <tr>\n",
       "      <th>14</th>\n",
       "      <td>60</td>\n",
       "      <td>104</td>\n",
       "      <td>132</td>\n",
       "      <td>379.3</td>\n",
       "    </tr>\n",
       "    <tr>\n",
       "      <th>15</th>\n",
       "      <td>60</td>\n",
       "      <td>98</td>\n",
       "      <td>123</td>\n",
       "      <td>275.0</td>\n",
       "    </tr>\n",
       "    <tr>\n",
       "      <th>16</th>\n",
       "      <td>60</td>\n",
       "      <td>98</td>\n",
       "      <td>120</td>\n",
       "      <td>215.2</td>\n",
       "    </tr>\n",
       "    <tr>\n",
       "      <th>17</th>\n",
       "      <td>60</td>\n",
       "      <td>100</td>\n",
       "      <td>120</td>\n",
       "      <td>300.0</td>\n",
       "    </tr>\n",
       "    <tr>\n",
       "      <th>18</th>\n",
       "      <td>45</td>\n",
       "      <td>90</td>\n",
       "      <td>112</td>\n",
       "      <td>NaN</td>\n",
       "    </tr>\n",
       "    <tr>\n",
       "      <th>19</th>\n",
       "      <td>60</td>\n",
       "      <td>103</td>\n",
       "      <td>123</td>\n",
       "      <td>323.0</td>\n",
       "    </tr>\n",
       "    <tr>\n",
       "      <th>20</th>\n",
       "      <td>45</td>\n",
       "      <td>97</td>\n",
       "      <td>125</td>\n",
       "      <td>243.0</td>\n",
       "    </tr>\n",
       "    <tr>\n",
       "      <th>21</th>\n",
       "      <td>60</td>\n",
       "      <td>108</td>\n",
       "      <td>131</td>\n",
       "      <td>364.2</td>\n",
       "    </tr>\n",
       "    <tr>\n",
       "      <th>22</th>\n",
       "      <td>45</td>\n",
       "      <td>100</td>\n",
       "      <td>119</td>\n",
       "      <td>282.0</td>\n",
       "    </tr>\n",
       "    <tr>\n",
       "      <th>23</th>\n",
       "      <td>60</td>\n",
       "      <td>130</td>\n",
       "      <td>101</td>\n",
       "      <td>300.0</td>\n",
       "    </tr>\n",
       "    <tr>\n",
       "      <th>24</th>\n",
       "      <td>45</td>\n",
       "      <td>105</td>\n",
       "      <td>132</td>\n",
       "      <td>246.0</td>\n",
       "    </tr>\n",
       "    <tr>\n",
       "      <th>25</th>\n",
       "      <td>60</td>\n",
       "      <td>102</td>\n",
       "      <td>126</td>\n",
       "      <td>334.5</td>\n",
       "    </tr>\n",
       "    <tr>\n",
       "      <th>26</th>\n",
       "      <td>60</td>\n",
       "      <td>100</td>\n",
       "      <td>120</td>\n",
       "      <td>250.0</td>\n",
       "    </tr>\n",
       "    <tr>\n",
       "      <th>27</th>\n",
       "      <td>60</td>\n",
       "      <td>92</td>\n",
       "      <td>118</td>\n",
       "      <td>241.0</td>\n",
       "    </tr>\n",
       "    <tr>\n",
       "      <th>28</th>\n",
       "      <td>60</td>\n",
       "      <td>103</td>\n",
       "      <td>132</td>\n",
       "      <td>NaN</td>\n",
       "    </tr>\n",
       "    <tr>\n",
       "      <th>29</th>\n",
       "      <td>60</td>\n",
       "      <td>100</td>\n",
       "      <td>132</td>\n",
       "      <td>280.0</td>\n",
       "    </tr>\n",
       "    <tr>\n",
       "      <th>30</th>\n",
       "      <td>60</td>\n",
       "      <td>102</td>\n",
       "      <td>129</td>\n",
       "      <td>380.3</td>\n",
       "    </tr>\n",
       "    <tr>\n",
       "      <th>31</th>\n",
       "      <td>60</td>\n",
       "      <td>92</td>\n",
       "      <td>115</td>\n",
       "      <td>243.0</td>\n",
       "    </tr>\n",
       "  </tbody>\n",
       "</table>\n",
       "</div>"
      ],
      "text/plain": [
       "    Duration  Pulse  Maxpulse  Calories\n",
       "0         60    110       130     409.1\n",
       "1         60    117       145     479.0\n",
       "2         60    103       135     340.0\n",
       "3         45    109       175     282.4\n",
       "4         45    117       148     406.0\n",
       "5         60    102       127     300.0\n",
       "6         60    110       136     374.0\n",
       "7        450    104       134     253.3\n",
       "8         30    109       133     195.1\n",
       "9         60     98       124     269.0\n",
       "10        60    103       147     329.3\n",
       "11        60    100       120     250.7\n",
       "12        60    100       120     250.7\n",
       "13        60    106       128     345.3\n",
       "14        60    104       132     379.3\n",
       "15        60     98       123     275.0\n",
       "16        60     98       120     215.2\n",
       "17        60    100       120     300.0\n",
       "18        45     90       112       NaN\n",
       "19        60    103       123     323.0\n",
       "20        45     97       125     243.0\n",
       "21        60    108       131     364.2\n",
       "22        45    100       119     282.0\n",
       "23        60    130       101     300.0\n",
       "24        45    105       132     246.0\n",
       "25        60    102       126     334.5\n",
       "26        60    100       120     250.0\n",
       "27        60     92       118     241.0\n",
       "28        60    103       132       NaN\n",
       "29        60    100       132     280.0\n",
       "30        60    102       129     380.3\n",
       "31        60     92       115     243.0"
      ]
     },
     "execution_count": 105,
     "metadata": {},
     "output_type": "execute_result"
    }
   ],
   "source": [
    "df = pd.read_csv(\"data cleaning.csv\")\n",
    "df"
   ]
  },
  {
   "cell_type": "markdown",
   "id": "b84e40f1-a405-4575-8eea-58a16fdbcfe3",
   "metadata": {},
   "source": [
    "#### display data "
   ]
  },
  {
   "cell_type": "code",
   "execution_count": 107,
   "id": "a2701d2d-630c-4767-b3fe-be5faa8c6176",
   "metadata": {},
   "outputs": [
    {
     "data": {
      "text/html": [
       "<div>\n",
       "<style scoped>\n",
       "    .dataframe tbody tr th:only-of-type {\n",
       "        vertical-align: middle;\n",
       "    }\n",
       "\n",
       "    .dataframe tbody tr th {\n",
       "        vertical-align: top;\n",
       "    }\n",
       "\n",
       "    .dataframe thead th {\n",
       "        text-align: right;\n",
       "    }\n",
       "</style>\n",
       "<table border=\"1\" class=\"dataframe\">\n",
       "  <thead>\n",
       "    <tr style=\"text-align: right;\">\n",
       "      <th></th>\n",
       "      <th>Duration</th>\n",
       "      <th>Pulse</th>\n",
       "      <th>Maxpulse</th>\n",
       "      <th>Calories</th>\n",
       "    </tr>\n",
       "  </thead>\n",
       "  <tbody>\n",
       "    <tr>\n",
       "      <th>0</th>\n",
       "      <td>60</td>\n",
       "      <td>110</td>\n",
       "      <td>130</td>\n",
       "      <td>409.1</td>\n",
       "    </tr>\n",
       "    <tr>\n",
       "      <th>1</th>\n",
       "      <td>60</td>\n",
       "      <td>117</td>\n",
       "      <td>145</td>\n",
       "      <td>479.0</td>\n",
       "    </tr>\n",
       "    <tr>\n",
       "      <th>2</th>\n",
       "      <td>60</td>\n",
       "      <td>103</td>\n",
       "      <td>135</td>\n",
       "      <td>340.0</td>\n",
       "    </tr>\n",
       "    <tr>\n",
       "      <th>3</th>\n",
       "      <td>45</td>\n",
       "      <td>109</td>\n",
       "      <td>175</td>\n",
       "      <td>282.4</td>\n",
       "    </tr>\n",
       "    <tr>\n",
       "      <th>4</th>\n",
       "      <td>45</td>\n",
       "      <td>117</td>\n",
       "      <td>148</td>\n",
       "      <td>406.0</td>\n",
       "    </tr>\n",
       "  </tbody>\n",
       "</table>\n",
       "</div>"
      ],
      "text/plain": [
       "   Duration  Pulse  Maxpulse  Calories\n",
       "0        60    110       130     409.1\n",
       "1        60    117       145     479.0\n",
       "2        60    103       135     340.0\n",
       "3        45    109       175     282.4\n",
       "4        45    117       148     406.0"
      ]
     },
     "execution_count": 107,
     "metadata": {},
     "output_type": "execute_result"
    }
   ],
   "source": [
    "# to display first 5 rows \n",
    "df.head()"
   ]
  },
  {
   "cell_type": "code",
   "execution_count": 109,
   "id": "fdb688b1-8c57-485e-9337-f18e56d7078a",
   "metadata": {},
   "outputs": [
    {
     "data": {
      "text/html": [
       "<div>\n",
       "<style scoped>\n",
       "    .dataframe tbody tr th:only-of-type {\n",
       "        vertical-align: middle;\n",
       "    }\n",
       "\n",
       "    .dataframe tbody tr th {\n",
       "        vertical-align: top;\n",
       "    }\n",
       "\n",
       "    .dataframe thead th {\n",
       "        text-align: right;\n",
       "    }\n",
       "</style>\n",
       "<table border=\"1\" class=\"dataframe\">\n",
       "  <thead>\n",
       "    <tr style=\"text-align: right;\">\n",
       "      <th></th>\n",
       "      <th>Duration</th>\n",
       "      <th>Pulse</th>\n",
       "      <th>Maxpulse</th>\n",
       "      <th>Calories</th>\n",
       "    </tr>\n",
       "  </thead>\n",
       "  <tbody>\n",
       "    <tr>\n",
       "      <th>27</th>\n",
       "      <td>60</td>\n",
       "      <td>92</td>\n",
       "      <td>118</td>\n",
       "      <td>241.0</td>\n",
       "    </tr>\n",
       "    <tr>\n",
       "      <th>28</th>\n",
       "      <td>60</td>\n",
       "      <td>103</td>\n",
       "      <td>132</td>\n",
       "      <td>NaN</td>\n",
       "    </tr>\n",
       "    <tr>\n",
       "      <th>29</th>\n",
       "      <td>60</td>\n",
       "      <td>100</td>\n",
       "      <td>132</td>\n",
       "      <td>280.0</td>\n",
       "    </tr>\n",
       "    <tr>\n",
       "      <th>30</th>\n",
       "      <td>60</td>\n",
       "      <td>102</td>\n",
       "      <td>129</td>\n",
       "      <td>380.3</td>\n",
       "    </tr>\n",
       "    <tr>\n",
       "      <th>31</th>\n",
       "      <td>60</td>\n",
       "      <td>92</td>\n",
       "      <td>115</td>\n",
       "      <td>243.0</td>\n",
       "    </tr>\n",
       "  </tbody>\n",
       "</table>\n",
       "</div>"
      ],
      "text/plain": [
       "    Duration  Pulse  Maxpulse  Calories\n",
       "27        60     92       118     241.0\n",
       "28        60    103       132       NaN\n",
       "29        60    100       132     280.0\n",
       "30        60    102       129     380.3\n",
       "31        60     92       115     243.0"
      ]
     },
     "execution_count": 109,
     "metadata": {},
     "output_type": "execute_result"
    }
   ],
   "source": [
    "# to display last 5 rows \n",
    "df.tail()"
   ]
  },
  {
   "cell_type": "markdown",
   "id": "629d5bdf-1a4b-4707-bc58-e9aa06cd2635",
   "metadata": {},
   "source": [
    "#### Data information"
   ]
  },
  {
   "cell_type": "code",
   "execution_count": 112,
   "id": "3d20bd8c-7ac4-4758-a5f6-91bfb3d34f45",
   "metadata": {},
   "outputs": [
    {
     "name": "stdout",
     "output_type": "stream",
     "text": [
      "<class 'pandas.core.frame.DataFrame'>\n",
      "RangeIndex: 32 entries, 0 to 31\n",
      "Data columns (total 4 columns):\n",
      " #   Column    Non-Null Count  Dtype  \n",
      "---  ------    --------------  -----  \n",
      " 0   Duration  32 non-null     int64  \n",
      " 1   Pulse     32 non-null     int64  \n",
      " 2   Maxpulse  32 non-null     int64  \n",
      " 3   Calories  30 non-null     float64\n",
      "dtypes: float64(1), int64(3)\n",
      "memory usage: 1.1 KB\n"
     ]
    }
   ],
   "source": [
    "df.info()"
   ]
  },
  {
   "cell_type": "code",
   "execution_count": 114,
   "id": "b0b907db-558b-4be9-aef4-cf8129e80c55",
   "metadata": {},
   "outputs": [
    {
     "data": {
      "text/html": [
       "<div>\n",
       "<style scoped>\n",
       "    .dataframe tbody tr th:only-of-type {\n",
       "        vertical-align: middle;\n",
       "    }\n",
       "\n",
       "    .dataframe tbody tr th {\n",
       "        vertical-align: top;\n",
       "    }\n",
       "\n",
       "    .dataframe thead th {\n",
       "        text-align: right;\n",
       "    }\n",
       "</style>\n",
       "<table border=\"1\" class=\"dataframe\">\n",
       "  <thead>\n",
       "    <tr style=\"text-align: right;\">\n",
       "      <th></th>\n",
       "      <th>Duration</th>\n",
       "      <th>Pulse</th>\n",
       "      <th>Maxpulse</th>\n",
       "      <th>Calories</th>\n",
       "    </tr>\n",
       "  </thead>\n",
       "  <tbody>\n",
       "    <tr>\n",
       "      <th>count</th>\n",
       "      <td>32.000000</td>\n",
       "      <td>32.000000</td>\n",
       "      <td>32.000000</td>\n",
       "      <td>30.000000</td>\n",
       "    </tr>\n",
       "    <tr>\n",
       "      <th>mean</th>\n",
       "      <td>68.437500</td>\n",
       "      <td>103.500000</td>\n",
       "      <td>128.500000</td>\n",
       "      <td>304.680000</td>\n",
       "    </tr>\n",
       "    <tr>\n",
       "      <th>std</th>\n",
       "      <td>70.039591</td>\n",
       "      <td>7.832933</td>\n",
       "      <td>12.998759</td>\n",
       "      <td>66.003779</td>\n",
       "    </tr>\n",
       "    <tr>\n",
       "      <th>min</th>\n",
       "      <td>30.000000</td>\n",
       "      <td>90.000000</td>\n",
       "      <td>101.000000</td>\n",
       "      <td>195.100000</td>\n",
       "    </tr>\n",
       "    <tr>\n",
       "      <th>25%</th>\n",
       "      <td>60.000000</td>\n",
       "      <td>100.000000</td>\n",
       "      <td>120.000000</td>\n",
       "      <td>250.700000</td>\n",
       "    </tr>\n",
       "    <tr>\n",
       "      <th>50%</th>\n",
       "      <td>60.000000</td>\n",
       "      <td>102.500000</td>\n",
       "      <td>127.500000</td>\n",
       "      <td>291.200000</td>\n",
       "    </tr>\n",
       "    <tr>\n",
       "      <th>75%</th>\n",
       "      <td>60.000000</td>\n",
       "      <td>106.500000</td>\n",
       "      <td>132.250000</td>\n",
       "      <td>343.975000</td>\n",
       "    </tr>\n",
       "    <tr>\n",
       "      <th>max</th>\n",
       "      <td>450.000000</td>\n",
       "      <td>130.000000</td>\n",
       "      <td>175.000000</td>\n",
       "      <td>479.000000</td>\n",
       "    </tr>\n",
       "  </tbody>\n",
       "</table>\n",
       "</div>"
      ],
      "text/plain": [
       "         Duration       Pulse    Maxpulse    Calories\n",
       "count   32.000000   32.000000   32.000000   30.000000\n",
       "mean    68.437500  103.500000  128.500000  304.680000\n",
       "std     70.039591    7.832933   12.998759   66.003779\n",
       "min     30.000000   90.000000  101.000000  195.100000\n",
       "25%     60.000000  100.000000  120.000000  250.700000\n",
       "50%     60.000000  102.500000  127.500000  291.200000\n",
       "75%     60.000000  106.500000  132.250000  343.975000\n",
       "max    450.000000  130.000000  175.000000  479.000000"
      ]
     },
     "execution_count": 114,
     "metadata": {},
     "output_type": "execute_result"
    }
   ],
   "source": [
    "df.describe()"
   ]
  },
  {
   "cell_type": "markdown",
   "id": "8ae087a5-5adf-4bab-bb8d-99c0a4773933",
   "metadata": {},
   "source": [
    "## Cleaning data "
   ]
  },
  {
   "cell_type": "markdown",
   "id": "9cef3f2c-0c6b-4497-9ed7-ceb2206f9645",
   "metadata": {},
   "source": [
    "### Dealing with missing values "
   ]
  },
  {
   "cell_type": "markdown",
   "id": "eaeb3b02-c290-46cd-93c3-f801c68f380f",
   "metadata": {},
   "source": [
    "##### Deleting missing value "
   ]
  },
  {
   "cell_type": "code",
   "execution_count": null,
   "id": "36896d50-7adb-4bf3-9fdd-ae5f02470e29",
   "metadata": {},
   "outputs": [],
   "source": [
    "new_df = df.dropna()"
   ]
  },
  {
   "cell_type": "markdown",
   "id": "6c9503ce-6d12-4116-a396-f64b53ec403e",
   "metadata": {},
   "source": [
    "##### Filling missing values by 4 ways "
   ]
  },
  {
   "cell_type": "code",
   "execution_count": 116,
   "id": "fd547570-ffaa-4ff3-89cb-6a390d3e6ddf",
   "metadata": {},
   "outputs": [
    {
     "data": {
      "text/plain": [
       "0     409.1\n",
       "1     479.0\n",
       "2     340.0\n",
       "3     282.4\n",
       "4     406.0\n",
       "5     300.0\n",
       "6     374.0\n",
       "7     253.3\n",
       "8     195.1\n",
       "9     269.0\n",
       "10    329.3\n",
       "11    250.7\n",
       "12    250.7\n",
       "13    345.3\n",
       "14    379.3\n",
       "15    275.0\n",
       "16    215.2\n",
       "17    300.0\n",
       "18    130.0\n",
       "19    323.0\n",
       "20    243.0\n",
       "21    364.2\n",
       "22    282.0\n",
       "23    300.0\n",
       "24    246.0\n",
       "25    334.5\n",
       "26    250.0\n",
       "27    241.0\n",
       "28    130.0\n",
       "29    280.0\n",
       "30    380.3\n",
       "31    243.0\n",
       "Name: Calories, dtype: float64"
      ]
     },
     "execution_count": 116,
     "metadata": {},
     "output_type": "execute_result"
    }
   ],
   "source": [
    "# by specific number \n",
    "\n",
    "df[\"Calories\"].fillna(130)"
   ]
  },
  {
   "cell_type": "code",
   "execution_count": 118,
   "id": "cdd9befb-1654-482a-b9e7-f1f545d9f4c8",
   "metadata": {},
   "outputs": [
    {
     "data": {
      "text/plain": [
       "0     409.10\n",
       "1     479.00\n",
       "2     340.00\n",
       "3     282.40\n",
       "4     406.00\n",
       "5     300.00\n",
       "6     374.00\n",
       "7     253.30\n",
       "8     195.10\n",
       "9     269.00\n",
       "10    329.30\n",
       "11    250.70\n",
       "12    250.70\n",
       "13    345.30\n",
       "14    379.30\n",
       "15    275.00\n",
       "16    215.20\n",
       "17    300.00\n",
       "18    304.68\n",
       "19    323.00\n",
       "20    243.00\n",
       "21    364.20\n",
       "22    282.00\n",
       "23    300.00\n",
       "24    246.00\n",
       "25    334.50\n",
       "26    250.00\n",
       "27    241.00\n",
       "28    304.68\n",
       "29    280.00\n",
       "30    380.30\n",
       "31    243.00\n",
       "Name: Calories, dtype: float64"
      ]
     },
     "execution_count": 118,
     "metadata": {},
     "output_type": "execute_result"
    }
   ],
   "source": [
    "# by mean\n",
    "\n",
    "new_mean = df[\"Calories\"].mean()\n",
    "df[\"Calories\"].fillna(new_mean)"
   ]
  },
  {
   "cell_type": "code",
   "execution_count": null,
   "id": "1250d685-3ded-491e-b245-77d04272a5dc",
   "metadata": {},
   "outputs": [],
   "source": [
    "#by mode (first repeated value)\n",
    "\n",
    "modee = df[\"Calories\"].mode()[0]\n",
    "df[\"Calories\"].fillna(modee) "
   ]
  },
  {
   "cell_type": "code",
   "execution_count": null,
   "id": "7ecd9037-78e9-44fa-9e74-00dddc6af656",
   "metadata": {},
   "outputs": [],
   "source": [
    "# by random way from pandas function \n",
    "\n",
    "imputed_columns = df.iloc[: , [1,2]]\n",
    "from sklearn.impute import SimpleImputer\n",
    "si = SimpleImputer ()\n",
    "imputed = pd.DataFrame(si.fit_transform(imputed_columns))  \n",
    "imputed"
   ]
  },
  {
   "cell_type": "markdown",
   "id": "e72433fb-b296-45ba-a9ab-9213b5aceb6c",
   "metadata": {},
   "source": [
    "### Dealing with wrong format"
   ]
  },
  {
   "cell_type": "markdown",
   "id": "6e7b278b-f272-4dcf-aa5d-f8db86a5f3b2",
   "metadata": {},
   "source": [
    "### Dealing with incorrect info "
   ]
  },
  {
   "cell_type": "code",
   "execution_count": 122,
   "id": "5e0d1b80-cc63-449e-8bdc-aa20fb0a1849",
   "metadata": {},
   "outputs": [
    {
     "name": "stdout",
     "output_type": "stream",
     "text": [
      "    Duration  Pulse  Maxpulse  Calories\n",
      "0         60    110       130     409.1\n",
      "1         60    117       145     479.0\n",
      "2         60    103       135     340.0\n",
      "3         45    109       175     282.4\n",
      "4         45    117       148     406.0\n",
      "5         60    102       127     300.0\n",
      "6         60    110       136     374.0\n",
      "7        120    104       134     253.3\n",
      "8         30    109       133     195.1\n",
      "9         60     98       124     269.0\n",
      "10        60    103       147     329.3\n",
      "11        60    100       120     250.7\n",
      "12        60    100       120     250.7\n",
      "13        60    106       128     345.3\n",
      "14        60    104       132     379.3\n",
      "15        60     98       123     275.0\n",
      "16        60     98       120     215.2\n",
      "17        60    100       120     300.0\n",
      "18        45     90       112       NaN\n",
      "19        60    103       123     323.0\n",
      "20        45     97       125     243.0\n",
      "21        60    108       131     364.2\n",
      "22        45    100       119     282.0\n",
      "23        60    130       101     300.0\n",
      "24        45    105       132     246.0\n",
      "25        60    102       126     334.5\n",
      "26        60    100       120     250.0\n",
      "27        60     92       118     241.0\n",
      "28        60    103       132       NaN\n",
      "29        60    100       132     280.0\n",
      "30        60    102       129     380.3\n",
      "31        60     92       115     243.0\n"
     ]
    }
   ],
   "source": [
    "# correct wrong values\n",
    "\n",
    "for x in df.index:\n",
    "    if df.loc[x, \"Duration\"] > 120:\n",
    "        df.loc[x, \"Duration\"] = 120\n",
    "print(df)"
   ]
  },
  {
   "cell_type": "code",
   "execution_count": 124,
   "id": "90f42b38-727b-4d40-b8cc-f18075036bbc",
   "metadata": {},
   "outputs": [],
   "source": [
    "# drop wrong value \n",
    "\n",
    "for x in df.index:\n",
    "    if df.loc[x, \"Duration\"] > 120:\n",
    "       df.drop(x)"
   ]
  },
  {
   "cell_type": "markdown",
   "id": "f42a9c14-831d-4c5e-ba03-d6a2cb70ec35",
   "metadata": {},
   "source": [
    "### Removing duplicates "
   ]
  },
  {
   "cell_type": "code",
   "execution_count": 126,
   "id": "6e4414fe-5f5e-432a-8e15-569aff7fec8f",
   "metadata": {},
   "outputs": [
    {
     "name": "stdout",
     "output_type": "stream",
     "text": [
      "0     False\n",
      "1     False\n",
      "2     False\n",
      "3     False\n",
      "4     False\n",
      "5     False\n",
      "6     False\n",
      "7     False\n",
      "8     False\n",
      "9     False\n",
      "10    False\n",
      "11    False\n",
      "12     True\n",
      "13    False\n",
      "14    False\n",
      "15    False\n",
      "16    False\n",
      "17    False\n",
      "18    False\n",
      "19    False\n",
      "20    False\n",
      "21    False\n",
      "22    False\n",
      "23    False\n",
      "24    False\n",
      "25    False\n",
      "26    False\n",
      "27    False\n",
      "28    False\n",
      "29    False\n",
      "30    False\n",
      "31    False\n",
      "dtype: bool\n"
     ]
    }
   ],
   "source": [
    "# to display duplicates \n",
    "\n",
    "print(df.duplicated())"
   ]
  },
  {
   "cell_type": "code",
   "execution_count": 53,
   "id": "6b542f77-b406-4d62-8ebb-34913db773dc",
   "metadata": {},
   "outputs": [
    {
     "data": {
      "text/html": [
       "<div>\n",
       "<style scoped>\n",
       "    .dataframe tbody tr th:only-of-type {\n",
       "        vertical-align: middle;\n",
       "    }\n",
       "\n",
       "    .dataframe tbody tr th {\n",
       "        vertical-align: top;\n",
       "    }\n",
       "\n",
       "    .dataframe thead th {\n",
       "        text-align: right;\n",
       "    }\n",
       "</style>\n",
       "<table border=\"1\" class=\"dataframe\">\n",
       "  <thead>\n",
       "    <tr style=\"text-align: right;\">\n",
       "      <th></th>\n",
       "      <th>Duration</th>\n",
       "      <th>Date</th>\n",
       "      <th>Pulse</th>\n",
       "      <th>Maxpulse</th>\n",
       "      <th>Calories</th>\n",
       "    </tr>\n",
       "  </thead>\n",
       "  <tbody>\n",
       "    <tr>\n",
       "      <th>0</th>\n",
       "      <td>60</td>\n",
       "      <td>'2020/12/01'</td>\n",
       "      <td>110</td>\n",
       "      <td>130</td>\n",
       "      <td>409.10</td>\n",
       "    </tr>\n",
       "    <tr>\n",
       "      <th>1</th>\n",
       "      <td>60</td>\n",
       "      <td>'2020/12/02'</td>\n",
       "      <td>117</td>\n",
       "      <td>145</td>\n",
       "      <td>479.00</td>\n",
       "    </tr>\n",
       "    <tr>\n",
       "      <th>2</th>\n",
       "      <td>60</td>\n",
       "      <td>'2020/12/03'</td>\n",
       "      <td>103</td>\n",
       "      <td>135</td>\n",
       "      <td>340.00</td>\n",
       "    </tr>\n",
       "    <tr>\n",
       "      <th>3</th>\n",
       "      <td>45</td>\n",
       "      <td>'2020/12/04'</td>\n",
       "      <td>109</td>\n",
       "      <td>175</td>\n",
       "      <td>282.40</td>\n",
       "    </tr>\n",
       "    <tr>\n",
       "      <th>4</th>\n",
       "      <td>45</td>\n",
       "      <td>'2020/12/05'</td>\n",
       "      <td>117</td>\n",
       "      <td>148</td>\n",
       "      <td>406.00</td>\n",
       "    </tr>\n",
       "    <tr>\n",
       "      <th>5</th>\n",
       "      <td>60</td>\n",
       "      <td>'2020/12/06'</td>\n",
       "      <td>102</td>\n",
       "      <td>127</td>\n",
       "      <td>300.00</td>\n",
       "    </tr>\n",
       "    <tr>\n",
       "      <th>6</th>\n",
       "      <td>60</td>\n",
       "      <td>'2020/12/07'</td>\n",
       "      <td>110</td>\n",
       "      <td>136</td>\n",
       "      <td>374.00</td>\n",
       "    </tr>\n",
       "    <tr>\n",
       "      <th>7</th>\n",
       "      <td>120</td>\n",
       "      <td>'2020/12/08'</td>\n",
       "      <td>104</td>\n",
       "      <td>134</td>\n",
       "      <td>253.30</td>\n",
       "    </tr>\n",
       "    <tr>\n",
       "      <th>8</th>\n",
       "      <td>30</td>\n",
       "      <td>'2020/12/09'</td>\n",
       "      <td>109</td>\n",
       "      <td>133</td>\n",
       "      <td>195.10</td>\n",
       "    </tr>\n",
       "    <tr>\n",
       "      <th>9</th>\n",
       "      <td>60</td>\n",
       "      <td>'2020/12/10'</td>\n",
       "      <td>98</td>\n",
       "      <td>124</td>\n",
       "      <td>269.00</td>\n",
       "    </tr>\n",
       "    <tr>\n",
       "      <th>10</th>\n",
       "      <td>60</td>\n",
       "      <td>'2020/12/11'</td>\n",
       "      <td>103</td>\n",
       "      <td>147</td>\n",
       "      <td>329.30</td>\n",
       "    </tr>\n",
       "    <tr>\n",
       "      <th>11</th>\n",
       "      <td>60</td>\n",
       "      <td>'2020/12/12'</td>\n",
       "      <td>100</td>\n",
       "      <td>120</td>\n",
       "      <td>250.70</td>\n",
       "    </tr>\n",
       "    <tr>\n",
       "      <th>13</th>\n",
       "      <td>60</td>\n",
       "      <td>'2020/12/13'</td>\n",
       "      <td>106</td>\n",
       "      <td>128</td>\n",
       "      <td>345.30</td>\n",
       "    </tr>\n",
       "    <tr>\n",
       "      <th>14</th>\n",
       "      <td>60</td>\n",
       "      <td>'2020/12/14'</td>\n",
       "      <td>104</td>\n",
       "      <td>132</td>\n",
       "      <td>379.30</td>\n",
       "    </tr>\n",
       "    <tr>\n",
       "      <th>15</th>\n",
       "      <td>60</td>\n",
       "      <td>'2020/12/15'</td>\n",
       "      <td>98</td>\n",
       "      <td>123</td>\n",
       "      <td>275.00</td>\n",
       "    </tr>\n",
       "    <tr>\n",
       "      <th>16</th>\n",
       "      <td>60</td>\n",
       "      <td>'2020/12/16'</td>\n",
       "      <td>98</td>\n",
       "      <td>120</td>\n",
       "      <td>215.20</td>\n",
       "    </tr>\n",
       "    <tr>\n",
       "      <th>17</th>\n",
       "      <td>60</td>\n",
       "      <td>'2020/12/17'</td>\n",
       "      <td>100</td>\n",
       "      <td>120</td>\n",
       "      <td>300.00</td>\n",
       "    </tr>\n",
       "    <tr>\n",
       "      <th>18</th>\n",
       "      <td>45</td>\n",
       "      <td>'2020/12/18'</td>\n",
       "      <td>90</td>\n",
       "      <td>112</td>\n",
       "      <td>304.68</td>\n",
       "    </tr>\n",
       "    <tr>\n",
       "      <th>19</th>\n",
       "      <td>60</td>\n",
       "      <td>'2020/12/19'</td>\n",
       "      <td>103</td>\n",
       "      <td>123</td>\n",
       "      <td>323.00</td>\n",
       "    </tr>\n",
       "    <tr>\n",
       "      <th>20</th>\n",
       "      <td>45</td>\n",
       "      <td>'2020/12/20'</td>\n",
       "      <td>97</td>\n",
       "      <td>125</td>\n",
       "      <td>243.00</td>\n",
       "    </tr>\n",
       "    <tr>\n",
       "      <th>21</th>\n",
       "      <td>60</td>\n",
       "      <td>'2020/12/21'</td>\n",
       "      <td>108</td>\n",
       "      <td>131</td>\n",
       "      <td>364.20</td>\n",
       "    </tr>\n",
       "    <tr>\n",
       "      <th>22</th>\n",
       "      <td>45</td>\n",
       "      <td>NaN</td>\n",
       "      <td>100</td>\n",
       "      <td>119</td>\n",
       "      <td>282.00</td>\n",
       "    </tr>\n",
       "    <tr>\n",
       "      <th>23</th>\n",
       "      <td>60</td>\n",
       "      <td>'2020/12/23'</td>\n",
       "      <td>130</td>\n",
       "      <td>101</td>\n",
       "      <td>300.00</td>\n",
       "    </tr>\n",
       "    <tr>\n",
       "      <th>24</th>\n",
       "      <td>45</td>\n",
       "      <td>'2020/12/24'</td>\n",
       "      <td>105</td>\n",
       "      <td>132</td>\n",
       "      <td>246.00</td>\n",
       "    </tr>\n",
       "    <tr>\n",
       "      <th>25</th>\n",
       "      <td>60</td>\n",
       "      <td>'2020/12/25'</td>\n",
       "      <td>102</td>\n",
       "      <td>126</td>\n",
       "      <td>334.50</td>\n",
       "    </tr>\n",
       "    <tr>\n",
       "      <th>26</th>\n",
       "      <td>60</td>\n",
       "      <td>26-12-20</td>\n",
       "      <td>100</td>\n",
       "      <td>120</td>\n",
       "      <td>250.00</td>\n",
       "    </tr>\n",
       "    <tr>\n",
       "      <th>27</th>\n",
       "      <td>60</td>\n",
       "      <td>'2020/12/27'</td>\n",
       "      <td>92</td>\n",
       "      <td>118</td>\n",
       "      <td>241.00</td>\n",
       "    </tr>\n",
       "    <tr>\n",
       "      <th>28</th>\n",
       "      <td>60</td>\n",
       "      <td>'2020/12/28'</td>\n",
       "      <td>103</td>\n",
       "      <td>132</td>\n",
       "      <td>304.68</td>\n",
       "    </tr>\n",
       "    <tr>\n",
       "      <th>29</th>\n",
       "      <td>60</td>\n",
       "      <td>'2020/12/29'</td>\n",
       "      <td>100</td>\n",
       "      <td>132</td>\n",
       "      <td>280.00</td>\n",
       "    </tr>\n",
       "    <tr>\n",
       "      <th>30</th>\n",
       "      <td>60</td>\n",
       "      <td>'2020/12/30'</td>\n",
       "      <td>102</td>\n",
       "      <td>129</td>\n",
       "      <td>380.30</td>\n",
       "    </tr>\n",
       "    <tr>\n",
       "      <th>31</th>\n",
       "      <td>60</td>\n",
       "      <td>'2020/12/31'</td>\n",
       "      <td>92</td>\n",
       "      <td>115</td>\n",
       "      <td>243.00</td>\n",
       "    </tr>\n",
       "  </tbody>\n",
       "</table>\n",
       "</div>"
      ],
      "text/plain": [
       "    Duration        Date    Pulse  Maxpulse  Calories\n",
       "0         60  '2020/12/01'    110       130    409.10\n",
       "1         60  '2020/12/02'    117       145    479.00\n",
       "2         60  '2020/12/03'    103       135    340.00\n",
       "3         45  '2020/12/04'    109       175    282.40\n",
       "4         45  '2020/12/05'    117       148    406.00\n",
       "5         60  '2020/12/06'    102       127    300.00\n",
       "6         60  '2020/12/07'    110       136    374.00\n",
       "7        120  '2020/12/08'    104       134    253.30\n",
       "8         30  '2020/12/09'    109       133    195.10\n",
       "9         60  '2020/12/10'     98       124    269.00\n",
       "10        60  '2020/12/11'    103       147    329.30\n",
       "11        60  '2020/12/12'    100       120    250.70\n",
       "13        60  '2020/12/13'    106       128    345.30\n",
       "14        60  '2020/12/14'    104       132    379.30\n",
       "15        60  '2020/12/15'     98       123    275.00\n",
       "16        60  '2020/12/16'     98       120    215.20\n",
       "17        60  '2020/12/17'    100       120    300.00\n",
       "18        45  '2020/12/18'     90       112    304.68\n",
       "19        60  '2020/12/19'    103       123    323.00\n",
       "20        45  '2020/12/20'     97       125    243.00\n",
       "21        60  '2020/12/21'    108       131    364.20\n",
       "22        45           NaN    100       119    282.00\n",
       "23        60  '2020/12/23'    130       101    300.00\n",
       "24        45  '2020/12/24'    105       132    246.00\n",
       "25        60  '2020/12/25'    102       126    334.50\n",
       "26        60      26-12-20    100       120    250.00\n",
       "27        60  '2020/12/27'     92       118    241.00\n",
       "28        60  '2020/12/28'    103       132    304.68\n",
       "29        60  '2020/12/29'    100       132    280.00\n",
       "30        60  '2020/12/30'    102       129    380.30\n",
       "31        60  '2020/12/31'     92       115    243.00"
      ]
     },
     "execution_count": 53,
     "metadata": {},
     "output_type": "execute_result"
    }
   ],
   "source": [
    "# to remove duplicates \n",
    "\n",
    "df.drop_duplicates()"
   ]
  },
  {
   "cell_type": "markdown",
   "id": "2f0012c0-e3e0-4b5c-b716-c89b4cb19770",
   "metadata": {},
   "source": [
    "### Correlation"
   ]
  },
  {
   "cell_type": "code",
   "execution_count": 128,
   "id": "2958c600-c890-4c6f-862c-8b4da0dc007d",
   "metadata": {},
   "outputs": [
    {
     "data": {
      "text/html": [
       "<div>\n",
       "<style scoped>\n",
       "    .dataframe tbody tr th:only-of-type {\n",
       "        vertical-align: middle;\n",
       "    }\n",
       "\n",
       "    .dataframe tbody tr th {\n",
       "        vertical-align: top;\n",
       "    }\n",
       "\n",
       "    .dataframe thead th {\n",
       "        text-align: right;\n",
       "    }\n",
       "</style>\n",
       "<table border=\"1\" class=\"dataframe\">\n",
       "  <thead>\n",
       "    <tr style=\"text-align: right;\">\n",
       "      <th></th>\n",
       "      <th>Duration</th>\n",
       "      <th>Pulse</th>\n",
       "      <th>Maxpulse</th>\n",
       "      <th>Calories</th>\n",
       "    </tr>\n",
       "  </thead>\n",
       "  <tbody>\n",
       "    <tr>\n",
       "      <th>Duration</th>\n",
       "      <td>1.000000</td>\n",
       "      <td>-0.027244</td>\n",
       "      <td>-0.073877</td>\n",
       "      <td>0.043951</td>\n",
       "    </tr>\n",
       "    <tr>\n",
       "      <th>Pulse</th>\n",
       "      <td>-0.027244</td>\n",
       "      <td>1.000000</td>\n",
       "      <td>0.276583</td>\n",
       "      <td>0.513186</td>\n",
       "    </tr>\n",
       "    <tr>\n",
       "      <th>Maxpulse</th>\n",
       "      <td>-0.073877</td>\n",
       "      <td>0.276583</td>\n",
       "      <td>1.000000</td>\n",
       "      <td>0.357460</td>\n",
       "    </tr>\n",
       "    <tr>\n",
       "      <th>Calories</th>\n",
       "      <td>0.043951</td>\n",
       "      <td>0.513186</td>\n",
       "      <td>0.357460</td>\n",
       "      <td>1.000000</td>\n",
       "    </tr>\n",
       "  </tbody>\n",
       "</table>\n",
       "</div>"
      ],
      "text/plain": [
       "          Duration     Pulse  Maxpulse  Calories\n",
       "Duration  1.000000 -0.027244 -0.073877  0.043951\n",
       "Pulse    -0.027244  1.000000  0.276583  0.513186\n",
       "Maxpulse -0.073877  0.276583  1.000000  0.357460\n",
       "Calories  0.043951  0.513186  0.357460  1.000000"
      ]
     },
     "execution_count": 128,
     "metadata": {},
     "output_type": "execute_result"
    }
   ],
   "source": [
    "df.corr()"
   ]
  },
  {
   "cell_type": "code",
   "execution_count": 150,
   "id": "1fa9a1b5-de4b-4f2a-b619-2e4a3f92e9ea",
   "metadata": {},
   "outputs": [
    {
     "data": {
      "text/plain": [
       "<Axes: >"
      ]
     },
     "execution_count": 150,
     "metadata": {},
     "output_type": "execute_result"
    },
    {
     "data": {
      "image/png": "[encoded data removed]",
      "text/plain": [
       "<Figure size 640x480 with 2 Axes>"
      ]
     },
     "metadata": {},
     "output_type": "display_data"
    }
   ],
   "source": [
    "# to display corr \n",
    "import seaborn as sns \n",
    "sns.heatmap(df.corr(), annot=True)"
   ]
  },
  {
   "cell_type": "markdown",
   "id": "51fcf05a-b750-4ebf-826d-6dc4870f2400",
   "metadata": {},
   "source": [
    "## Plotting "
   ]
  },
  {
   "cell_type": "code",
   "execution_count": 138,
   "id": "866b343b-2ce7-4a07-8c4a-00307acfd752",
   "metadata": {},
   "outputs": [
    {
     "data": {
      "text/plain": [
       "<Axes: >"
      ]
     },
     "execution_count": 138,
     "metadata": {},
     "output_type": "execute_result"
    },
    {
     "data": {
      "image/png": "[encoded data removed]",
      "text/plain": [
       "<Figure size 640x480 with 1 Axes>"
      ]
     },
     "metadata": {},
     "output_type": "display_data"
    }
   ],
   "source": [
    "df.plot()"
   ]
  },
  {
   "cell_type": "code",
   "execution_count": 140,
   "id": "9e0c9b9b-6bb6-47d6-9db6-b315a9a23885",
   "metadata": {},
   "outputs": [
    {
     "data": {
      "text/plain": [
       "<Axes: xlabel='Duration', ylabel='Calories'>"
      ]
     },
     "execution_count": 140,
     "metadata": {},
     "output_type": "execute_result"
    },
    {
     "data": {
      "image/png": "[encoded data removed]",
      "text/plain": [
       "<Figure size 640x480 with 1 Axes>"
      ]
     },
     "metadata": {},
     "output_type": "display_data"
    }
   ],
   "source": [
    "df.plot(kind = \"scatter\", x= \"Duration\", y= \"Calories\")"
   ]
  },
  {
   "cell_type": "code",
   "execution_count": 146,
   "id": "e28bc961-741f-4e9c-8e87-067539912d45",
   "metadata": {},
   "outputs": [
    {
     "data": {
      "text/plain": [
       "<Axes: ylabel='Frequency'>"
      ]
     },
     "execution_count": 146,
     "metadata": {},
     "output_type": "execute_result"
    },
    {
     "data": {
      "image/png": "[encoded data removed]",
      "text/plain": [
       "<Figure size 640x480 with 1 Axes>"
      ]
     },
     "metadata": {},
     "output_type": "display_data"
    }
   ],
   "source": [
    "df[\"Duration\"].plot(kind = \"hist\")"
   ]
  },
  {
   "cell_type": "code",
   "execution_count": null,
   "id": "f96eb0c7-6b40-43a3-9693-01ec765a7c0a",
   "metadata": {},
   "outputs": [],
   "source": []
  }
 ],
 "metadata": {
  "kernelspec": {
   "display_name": "Python 3 (ipykernel)",
   "language": "python",
   "name": "python3"
  },
  "language_info": {
   "codemirror_mode": {
    "name": "ipython",
    "version": 3
   },
   "file_extension": ".py",
   "mimetype": "text/x-python",
   "name": "python",
   "nbconvert_exporter": "python",
   "pygments_lexer": "ipython3",
   "version": "3.12.4"
  }
 },
 "nbformat": 4,
 "nbformat_minor": 5
}
