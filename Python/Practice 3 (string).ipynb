{
 "cells": [
  {
   "cell_type": "markdown",
   "id": "5be25b1d-ab51-4e2a-a855-554719b978ef",
   "metadata": {},
   "source": [
    "# Sequential control flow 1"
   ]
  },
  {
   "cell_type": "markdown",
   "id": "b4642af1-d4b4-4bd8-8143-ecd54a2ecd3c",
   "metadata": {},
   "source": [
    "## String"
   ]
  },
  {
   "cell_type": "markdown",
   "id": "429395d7-5bb0-4bc7-9e4c-7991cdeb52f8",
   "metadata": {},
   "source": [
    "#### Indexing"
   ]
  },
  {
   "cell_type": "code",
   "execution_count": 89,
   "id": "d0445193-9429-4952-84fc-1399b396ae7c",
   "metadata": {},
   "outputs": [
    {
     "name": "stdout",
     "output_type": "stream",
     "text": [
      "positive indexing: \n",
      "first: b\n",
      "second: f\n"
     ]
    }
   ],
   "source": [
    "word = \"be yourself\"\n",
    "\n",
    "# positive indexing \n",
    "first_char = word[0]\n",
    "last_char = word[10]\n",
    "\n",
    "print(\"positive indexing: \")\n",
    "print(\"first:\", first_char)\n",
    "print(\"second:\", last_char)"
   ]
  },
  {
   "cell_type": "code",
   "execution_count": 93,
   "id": "9643991a-a56c-47d5-83cb-28837b1779b8",
   "metadata": {},
   "outputs": [
    {
     "name": "stdout",
     "output_type": "stream",
     "text": [
      "negative indexing: \n",
      "first: b\n",
      "second: f\n"
     ]
    }
   ],
   "source": [
    "word = \"be yourself\"\n",
    "\n",
    "# negative indexing \n",
    "first_char = word[-11]\n",
    "last_char = word[-1]\n",
    "\n",
    "print(\"negative indexing: \")\n",
    "print(\"first:\", first_char)\n",
    "print(\"second:\", last_char)"
   ]
  },
  {
   "cell_type": "markdown",
   "id": "98045ef2-df29-44aa-b7de-106170f1e5e5",
   "metadata": {},
   "source": [
    "#### Concatenation "
   ]
  },
  {
   "cell_type": "code",
   "execution_count": 106,
   "id": "d93c2977-596e-419e-b414-454ceb85b9c8",
   "metadata": {},
   "outputs": [
    {
     "name": "stdout",
     "output_type": "stream",
     "text": [
      "aml mahmoud\n",
      "14\n"
     ]
    }
   ],
   "source": [
    "# add name and age \n",
    "\n",
    "print(name + \"\\n\" + str(age))"
   ]
  },
  {
   "cell_type": "markdown",
   "id": "dc75b8dd-d59a-4364-ab0c-4106400a7554",
   "metadata": {},
   "source": [
    "#### Repliction "
   ]
  },
  {
   "cell_type": "code",
   "execution_count": 122,
   "id": "c117e64b-ed4e-4657-a1ca-826e68e6134a",
   "metadata": {},
   "outputs": [
    {
     "name": "stdout",
     "output_type": "stream",
     "text": [
      "LaylaLaylaLayla\n"
     ]
    }
   ],
   "source": [
    "# Replicate Hagar's name \n",
    "\n",
    "Name = \"Layla\"\n",
    "Replicated_name = Name * 3\n",
    "print(Replicated_name)"
   ]
  },
  {
   "cell_type": "markdown",
   "id": "d2dd138f-68b9-48ef-860f-f66a0501245b",
   "metadata": {},
   "source": [
    "#### Slicing "
   ]
  },
  {
   "cell_type": "code",
   "execution_count": 133,
   "id": "6ea87a17-6d86-4c67-8fe3-e0697f1a71cb",
   "metadata": {},
   "outputs": [
    {
     "name": "stdout",
     "output_type": "stream",
     "text": [
      "first word: green\n",
      "second word:  tea\n"
     ]
    }
   ],
   "source": [
    "healthy = \"green tea\"\n",
    "\n",
    "# slicing green word by positive indexing \n",
    "green = healthy[0:5]\n",
    "print(\"first word:\", green)\n",
    "\n",
    "# slicing tea word by negative indexing \n",
    "tea = healthy[-4:]\n",
    "print(\"second word:\", tea)"
   ]
  },
  {
   "cell_type": "markdown",
   "id": "67afa4cb-2b16-4e3e-b589-f5871cec5fa3",
   "metadata": {},
   "source": [
    "#### Join"
   ]
  },
  {
   "cell_type": "code",
   "execution_count": 195,
   "id": "ca5f1346-2252-44df-894b-4360bacde04d",
   "metadata": {},
   "outputs": [
    {
     "name": "stdout",
     "output_type": "stream",
     "text": [
      "18/07/2020\n"
     ]
    }
   ],
   "source": [
    "#join birth date with /\n",
    "\n",
    "BD = [\"18\",\"07\",\"2020\"]\n",
    "new_BD = \"/\".join(BD)\n",
    "print(new_BD)"
   ]
  },
  {
   "cell_type": "code",
   "execution_count": 201,
   "id": "9d973490-8020-4b25-ad9c-d4aa13be5be2",
   "metadata": {},
   "outputs": [
    {
     "name": "stdout",
     "output_type": "stream",
     "text": [
      "H157a157g157a157r\n"
     ]
    }
   ],
   "source": [
    "#Join numbers & characters \n",
    "\n",
    "Namee = \"Hagar\"\n",
    "Bd = 157 \n",
    "Name_Bd = \"157\".join(Namee)\n",
    "print(Name_Bd)"
   ]
  },
  {
   "cell_type": "markdown",
   "id": "0c420506-9ea0-43f9-b691-102e084853dd",
   "metadata": {},
   "source": [
    "#### Split "
   ]
  },
  {
   "cell_type": "code",
   "execution_count": 208,
   "id": "5fa2f70c-c66c-4174-86ae-8f0b5b4b29c9",
   "metadata": {},
   "outputs": [
    {
     "data": {
      "text/plain": [
       "['hagar', ' salma', ' hoda']"
      ]
     },
     "execution_count": 208,
     "metadata": {},
     "output_type": "execute_result"
    }
   ],
   "source": [
    "# split the following names \n",
    "\n",
    "students = \"hagar, salma, hoda\"\n",
    "students.split(\",\")"
   ]
  },
  {
   "cell_type": "markdown",
   "id": "49b33299-5a06-42c4-aa3e-beb2a9c27ca6",
   "metadata": {},
   "source": [
    "#### Built-in string functions exercises "
   ]
  },
  {
   "cell_type": "code",
   "execution_count": 212,
   "id": "e664bab3-a9f3-4c5a-9a28-714accca4148",
   "metadata": {},
   "outputs": [],
   "source": [
    "name = \"   aMl mahmoud  \" \n",
    "age = 14"
   ]
  },
  {
   "cell_type": "code",
   "execution_count": 137,
   "id": "c9e06226-13e8-4784-8685-60fc6c4dec6b",
   "metadata": {},
   "outputs": [
    {
     "name": "stdout",
     "output_type": "stream",
     "text": [
      "Aml Mahmoud\n"
     ]
    }
   ],
   "source": [
    "# Make first character in both names capital \n",
    "\n",
    "print(name.title())"
   ]
  },
  {
   "cell_type": "code",
   "execution_count": 139,
   "id": "60b87a8e-7785-44c7-8c5b-adc519db9d85",
   "metadata": {},
   "outputs": [
    {
     "name": "stdout",
     "output_type": "stream",
     "text": [
      "AML MAHMOUD\n"
     ]
    }
   ],
   "source": [
    "# Make all characters capital \n",
    "\n",
    "print(name.upper())"
   ]
  },
  {
   "cell_type": "code",
   "execution_count": 141,
   "id": "b5e32040-b50b-49c0-a39b-09ce3c9c6229",
   "metadata": {},
   "outputs": [
    {
     "name": "stdout",
     "output_type": "stream",
     "text": [
      "aml mahmoud\n"
     ]
    }
   ],
   "source": [
    "# Make all characters small \n",
    "\n",
    "print(name.lower())"
   ]
  },
  {
   "cell_type": "code",
   "execution_count": 147,
   "id": "c3418bc6-74f7-4640-abff-1110b68dcb0c",
   "metadata": {},
   "outputs": [
    {
     "name": "stdout",
     "output_type": "stream",
     "text": [
      "Aml mahmoud\n"
     ]
    }
   ],
   "source": [
    "# capitalize the first character in the string \n",
    "\n",
    "print(name.capitalize())"
   ]
  },
  {
   "cell_type": "code",
   "execution_count": 214,
   "id": "a3e59bed-3946-45fc-b566-dba67a1bc9cf",
   "metadata": {},
   "outputs": [
    {
     "name": "stdout",
     "output_type": "stream",
     "text": [
      "   AmL MAHMOUD  \n"
     ]
    }
   ],
   "source": [
    "# convert capital characters to small and vise versa \n",
    "\n",
    "print(name.swapcase())"
   ]
  },
  {
   "cell_type": "code",
   "execution_count": 167,
   "id": "d6bff6a6-4c65-4fe3-853e-f4e7a5c30ff2",
   "metadata": {},
   "outputs": [
    {
     "data": {
      "text/plain": [
       "'   aml mahmoud'"
      ]
     },
     "execution_count": 167,
     "metadata": {},
     "output_type": "execute_result"
    }
   ],
   "source": [
    "# remove right leading spaces \n",
    "name.rstrip()"
   ]
  },
  {
   "cell_type": "code",
   "execution_count": 169,
   "id": "56162fd8-e03b-4bcb-83c9-5b7eb485dae9",
   "metadata": {},
   "outputs": [
    {
     "data": {
      "text/plain": [
       "'aml mahmoud  '"
      ]
     },
     "execution_count": 169,
     "metadata": {},
     "output_type": "execute_result"
    }
   ],
   "source": [
    "# remove left leading spaces \n",
    "name.lstrip()"
   ]
  },
  {
   "cell_type": "code",
   "execution_count": 171,
   "id": "e547a403-77ce-445d-8772-263b74d7f3a7",
   "metadata": {},
   "outputs": [
    {
     "data": {
      "text/plain": [
       "'aml mahmoud'"
      ]
     },
     "execution_count": 171,
     "metadata": {},
     "output_type": "execute_result"
    }
   ],
   "source": [
    "# remove all leading spaces \n",
    "name.strip()"
   ]
  },
  {
   "cell_type": "code",
   "execution_count": 178,
   "id": "9a696bbb-3814-487c-8b54-ad833a642479",
   "metadata": {},
   "outputs": [
    {
     "name": "stdout",
     "output_type": "stream",
     "text": [
      "It's all about Java\n"
     ]
    }
   ],
   "source": [
    "# replace word \"pyhton\" with Java \n",
    "\n",
    "Data= \"It's all about python\" \n",
    "print(Data.replace(\"python\", \"Java\"))"
   ]
  },
  {
   "cell_type": "code",
   "execution_count": 184,
   "id": "12ba2c26-d916-4da7-89d0-0e538644fc86",
   "metadata": {},
   "outputs": [
    {
     "name": "stdout",
     "output_type": "stream",
     "text": [
      "9\n"
     ]
    }
   ],
   "source": [
    "# search about index 9 in this sentence\n",
    "\n",
    "Data= \"It's all about python\" \n",
    "index = Data.find(\"about\")\n",
    "print(index)"
   ]
  },
  {
   "cell_type": "code",
   "execution_count": 216,
   "id": "342d9b7d-69c8-4d8d-aa66-4d8eb7362da6",
   "metadata": {},
   "outputs": [
    {
     "name": "stdout",
     "output_type": "stream",
     "text": [
      "True\n"
     ]
    }
   ],
   "source": [
    "# ask if the string ends with \"hon\" \n",
    "\n",
    "print(Data.endswith(\"hon\"))"
   ]
  },
  {
   "cell_type": "code",
   "execution_count": 218,
   "id": "29351fcf-b39e-4506-b061-fa9cf5190258",
   "metadata": {},
   "outputs": [
    {
     "name": "stdout",
     "output_type": "stream",
     "text": [
      "False\n"
     ]
    }
   ],
   "source": [
    "# ask if the string starts with \"it's\" \n",
    "\n",
    "print(Data.startswith(\"it's\"))"
   ]
  },
  {
   "cell_type": "code",
   "execution_count": 227,
   "id": "ecab6aa5-2f41-4c79-9ced-7fd631a2e953",
   "metadata": {},
   "outputs": [
    {
     "data": {
      "text/plain": [
       "2"
      ]
     },
     "execution_count": 227,
     "metadata": {},
     "output_type": "execute_result"
    }
   ],
   "source": [
    "# count character a in Data \n",
    "Data.count(\"a\")"
   ]
  },
  {
   "cell_type": "code",
   "execution_count": 221,
   "id": "cb2b5c9e-167c-4426-ac67-dbb6761c0b56",
   "metadata": {},
   "outputs": [
    {
     "data": {
      "text/plain": [
       "False"
      ]
     },
     "execution_count": 221,
     "metadata": {},
     "output_type": "execute_result"
    }
   ],
   "source": [
    "# check if it isalnum without any spaces\n",
    "\n",
    "fact= \"Abd salma\" \n",
    "fact.isalnum()"
   ]
  },
  {
   "cell_type": "code",
   "execution_count": 223,
   "id": "7d3f1d51-cab7-4e09-b8ed-bf659804ce0e",
   "metadata": {},
   "outputs": [
    {
     "data": {
      "text/plain": [
       "True"
      ]
     },
     "execution_count": 223,
     "metadata": {},
     "output_type": "execute_result"
    }
   ],
   "source": [
    "# check if \"AMALMAHMOUD\" is alpha\n",
    "\n",
    "\"AMALMAHMOUD\".isalpha()"
   ]
  }
 ],
 "metadata": {
  "kernelspec": {
   "display_name": "Python 3 (ipykernel)",
   "language": "python",
   "name": "python3"
  },
  "language_info": {
   "codemirror_mode": {
    "name": "ipython",
    "version": 3
   },
   "file_extension": ".py",
   "mimetype": "text/x-python",
   "name": "python",
   "nbconvert_exporter": "python",
   "pygments_lexer": "ipython3",
   "version": "3.12.4"
  }
 },
 "nbformat": 4,
 "nbformat_minor": 5
}
