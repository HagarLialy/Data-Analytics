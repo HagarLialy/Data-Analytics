{
 "cells": [
  {
   "cell_type": "markdown",
   "id": "a594f6f7-a241-45cb-84e3-0a4d4204d9e6",
   "metadata": {},
   "source": [
    "### Write Python Program to Convert the Given Number of seconds to a Measure Time Given in Hours, Minutes and Seconds"
   ]
  },
  {
   "cell_type": "code",
   "execution_count": 54,
   "id": "041f093a-19c7-4e84-b015-363d28b62b50",
   "metadata": {},
   "outputs": [
    {
     "name": "stdin",
     "output_type": "stream",
     "text": [
      "The given number of seconds is:  10000\n"
     ]
    }
   ],
   "source": [
    "Number_of_seconds = int(input(\"The given number of seconds is: \"))"
   ]
  },
  {
   "cell_type": "code",
   "execution_count": 58,
   "id": "c7d92c23-7e3d-414c-9d1c-a4781241fd8a",
   "metadata": {},
   "outputs": [
    {
     "name": "stdout",
     "output_type": "stream",
     "text": [
      "In 10000 there is 2 hours, 46 minutes & 40 seconds.\n"
     ]
    }
   ],
   "source": [
    "Number_of_hours = Number_of_seconds//3600\n",
    "Number_of_minutes = Number_of_seconds%3600//60\n",
    "Number_of_remaining_seconds = Number_of_seconds%3600%60\n",
    "print(f\"In {Number_of_seconds} there is {Number_of_hours} hours, {Number_of_minutes} minutes & {Number_of_remaining_seconds} seconds.\")"
   ]
  },
  {
   "cell_type": "markdown",
   "id": "ee5f20b7-a2bd-404a-9bca-b4ed7889eeb9",
   "metadata": {},
   "source": [
    "### Ask the user for their name and their age. Add 1 to their age and display the output [Name] next birthday you will be [new age]."
   ]
  },
  {
   "cell_type": "code",
   "execution_count": 61,
   "id": "89ea66ea-3ad4-4356-a984-c12ca47b0477",
   "metadata": {},
   "outputs": [
    {
     "name": "stdin",
     "output_type": "stream",
     "text": [
      "enter your name Hagar\n",
      "enter your age 22\n"
     ]
    }
   ],
   "source": [
    "Name = input(\"enter your name\")\n",
    "Age = int(input(\"enter your age\"))"
   ]
  },
  {
   "cell_type": "code",
   "execution_count": 71,
   "id": "228079e5-e1e5-4609-9332-620111d1e561",
   "metadata": {},
   "outputs": [
    {
     "name": "stdout",
     "output_type": "stream",
     "text": [
      "Hagar next birthday will be 26\n"
     ]
    }
   ],
   "source": [
    "Age +=1 \n",
    "print(f\"{Name} next birthday will be {Age}\")"
   ]
  },
  {
   "cell_type": "markdown",
   "id": "29e3520f-5ce9-4779-bf20-b8329b6dafc4",
   "metadata": {},
   "source": [
    "### Task the user to enter a number over 100 and then enter a number under 10 and tell them how many times the smaller number goes into the larger number in a user-friendly format"
   ]
  },
  {
   "cell_type": "code",
   "execution_count": 76,
   "id": "ff7a74fe-6dcb-4f14-a80f-e61942382d7e",
   "metadata": {},
   "outputs": [
    {
     "name": "stdin",
     "output_type": "stream",
     "text": [
      "Write a number over than 100:  200\n"
     ]
    }
   ],
   "source": [
    "Users_number = int(input(\"Write a number over than 100: \"))"
   ]
  },
  {
   "cell_type": "code",
   "execution_count": 81,
   "id": "f8a6c26b-85f7-474b-8949-4824b18e405e",
   "metadata": {},
   "outputs": [
    {
     "name": "stdout",
     "output_type": "stream",
     "text": [
      " the smaller number 6 goes into the larger number 200 by 33.\n"
     ]
    }
   ],
   "source": [
    "Small_number = 6\n",
    "New_number = Users_number//Small_number \n",
    "print(f\" the smaller number {Small_number} goes into the larger number {Users_number} by {New_number}.\")"
   ]
  },
  {
   "cell_type": "code",
   "execution_count": null,
   "id": "eb56f83c-e0a0-48ef-a2e7-f16221b846c1",
   "metadata": {},
   "outputs": [],
   "source": []
  }
 ],
 "metadata": {
  "kernelspec": {
   "display_name": "Python 3 (ipykernel)",
   "language": "python",
   "name": "python3"
  },
  "language_info": {
   "codemirror_mode": {
    "name": "ipython",
    "version": 3
   },
   "file_extension": ".py",
   "mimetype": "text/x-python",
   "name": "python",
   "nbconvert_exporter": "python",
   "pygments_lexer": "ipython3",
   "version": "3.12.4"
  }
 },
 "nbformat": 4,
 "nbformat_minor": 5
}
